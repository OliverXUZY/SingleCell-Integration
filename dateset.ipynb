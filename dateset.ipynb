{
 "cells": [
  {
   "cell_type": "code",
   "execution_count": 1,
   "metadata": {},
   "outputs": [],
   "source": [
    "import torch\n",
    "from torch.utils.data import Dataset\n",
    "from torch.utils.data import DataLoader\n",
    "from torch import nn\n",
    "import torch.nn.functional as F\n",
    "import torch.optim as optim\n",
    "\n",
    "import h5py\n",
    "import hdf5plugin\n",
    "\n",
    "from func.prepro import SingleCellDataset\n",
    "\n",
    "import os"
   ]
  },
  {
   "cell_type": "code",
   "execution_count": 2,
   "metadata": {},
   "outputs": [],
   "source": [
    "# class SingleCellDataset(Dataset):\n",
    "#     def __init__(self, path_to_input_file, path_to_target_file) -> None:\n",
    "#         self.input_file = path_to_input_file\n",
    "#         self.target_file = path_to_target_file\n",
    "#         with h5py.File(self.input_file, \"r\") as f:\n",
    "#             a_group_key = list(f.keys())[0]            \n",
    "#             group = f[a_group_key]      # returns as a h5py dataset object\n",
    "            \n",
    "#             self.cells = group['axis1'][:].astype(str)\n",
    "#             self.features = group['axis0'][:].astype(str)\n",
    "        \n",
    "#         with h5py.File(self.target_file, \"r\") as f:\n",
    "#             a_group_key = list(f.keys())[0]            \n",
    "#             group = f[a_group_key]      # returns as a h5py dataset object\n",
    "            \n",
    "#             self.targets = group['axis0'][:].astype(str)\n",
    "\n",
    "#     def __len__(self):\n",
    "#         return len(self.cells)\n",
    "\n",
    "#     def __getitem__(self, index):\n",
    "#         with h5py.File(self.input_file, \"r\") as f:\n",
    "#             a_group_key = list(f.keys())[0]\n",
    "#             group = f[a_group_key]      # returns as a h5py dataset object\n",
    "            \n",
    "#             cells, inputs = self.cells[index], group['block0_values'][index]\n",
    "        \n",
    "#         with h5py.File(self.target_file, \"r\") as f:\n",
    "#             a_group_key = list(f.keys())[0]            \n",
    "#             group = f[a_group_key]      # returns as a h5py dataset object\n",
    "            \n",
    "#             targets = group['block0_values'][index]\n",
    "        \n",
    "#         return cells, inputs, targets\n",
    "        \n"
   ]
  },
  {
   "cell_type": "code",
   "execution_count": 2,
   "metadata": {},
   "outputs": [],
   "source": [
    "DATA_DIR = \"open-problems-multimodal\"\n",
    "FP_CELL_METADATA = os.path.join(DATA_DIR,\"metadata.csv\")\n",
    "\n",
    "FP_CITE_TRAIN_INPUTS = os.path.join(DATA_DIR,\"train_cite_inputs.h5\")\n",
    "FP_CITE_TRAIN_TARGETS = os.path.join(DATA_DIR,\"train_cite_targets.h5\")\n",
    "FP_CITE_TEST_INPUTS = os.path.join(DATA_DIR,\"test_cite_inputs.h5\")\n",
    "\n",
    "FP_MULTIOME_TRAIN_INPUTS = os.path.join(DATA_DIR,\"train_multi_inputs.h5\")\n",
    "FP_MULTIOME_TRAIN_TARGETS = os.path.join(DATA_DIR,\"train_multi_targets.h5\")\n",
    "FP_MULTIOME_TEST_INPUTS = os.path.join(DATA_DIR,\"test_multi_inputs.h5\")\n",
    "\n",
    "FP_SUBMISSION = os.path.join(DATA_DIR,\"sample_submission.csv\")\n",
    "FP_EVALUATION_IDS = os.path.join(DATA_DIR,\"evaluation_ids.csv\")"
   ]
  },
  {
   "cell_type": "code",
   "execution_count": 3,
   "metadata": {},
   "outputs": [],
   "source": [
    "test_cite = SingleCellDataset(FP_CITE_TEST_INPUTS)"
   ]
  },
  {
   "cell_type": "code",
   "execution_count": 4,
   "metadata": {},
   "outputs": [
    {
     "data": {
      "text/plain": [
       "array([0.      , 0.      , 0.      , ..., 0.      , 4.090185, 0.      ],\n",
       "      dtype=float32)"
      ]
     },
     "execution_count": 4,
     "metadata": {},
     "output_type": "execute_result"
    }
   ],
   "source": [
    "test_cite[0][1]"
   ]
  },
  {
   "cell_type": "code",
   "execution_count": 5,
   "metadata": {},
   "outputs": [],
   "source": [
    "train_cite = SingleCellDataset(FP_CITE_TRAIN_INPUTS,FP_CITE_TRAIN_TARGETS)"
   ]
  },
  {
   "cell_type": "code",
   "execution_count": 4,
   "metadata": {},
   "outputs": [
    {
     "data": {
      "text/plain": [
       "array(['45006fe3e4c8', 'd02759a80ba2', 'c016c6b0efa5', 'ba7f733a4f75',\n",
       "       'fbcf2443ffb2', 'd80d84ca8e89', '1ac2049b4c98', '33fb0c29e2e4',\n",
       "       'b329261bd0ee', '703762287e88', 'b646f9b319d5', '8dbe30c95702',\n",
       "       '14872957f6f5', '2d64cde52cb5', 'f12e269586de', '9b761504056d',\n",
       "       '086f8e248454', '1d2726dd7b00', '2f4ee4660cd0', '6e3e3bea962c',\n",
       "       '7b73a396081b', '4f2843b68f54', 'ce59e8ae43b2', 'f177e24dd27f',\n",
       "       '3e9868bca666', 'f64f24ba925a', 'daa10d474d5f', '14eb0b93a25a',\n",
       "       '9091907ae959', '83ad957ed9a8', 'd87f439a9f22', 'ea1975bd6055',\n",
       "       '95759da25a74', '4936ac8d22ba', 'f194d259da45', 'b0f55f2b7a9a',\n",
       "       '691d7b9f980d', '9085ea05115e', 'bd0c425de3e4', '95ce3f4e74d8',\n",
       "       'f2479eb2c99f', '87229342150a', 'bec79ad8d168', '3e8d5a22299d',\n",
       "       'fa035a84c643', 'e3c2ca1485a8', '1110c446285e', 'a91d20f23794',\n",
       "       '755f28c0c23b', '92a8207d0e3e', '347f40965136', 'c0d1376c85de',\n",
       "       'f059c0fa7f2f', 'b0745a4706d5', '871058f78714', '6f115b350948',\n",
       "       'a6821a25dca4', '8663f1200ec5', '824a1a093b1e', '914ff2cba18c',\n",
       "       'dd1f314ead05', '91f1de398c7d', '7f19eb60192a', 'e5e3f2fddd66',\n",
       "       'b44c0a754469', '611f314188a8', 'e8ac1c9075ba', 'fef5be57d70e',\n",
       "       '003fe3679efa', 'e8672e9294ff', '7bfa50ddf2bb', 'e5a992302262',\n",
       "       'a3a2af73050e', '1a3048641b28', '920736877564', '6c9aa6bc4259',\n",
       "       'f7e6dea970b2', 'a09bd1b71d8a', '6ddc964e07f5', '84bf20406b06',\n",
       "       'def462a2aeea', '2682063a02ac', 'e352aff61ac6', '14aefab25e10',\n",
       "       '199747bf026b', '9417e6a6e030', 'f1f05843c390', 'b84469bef327',\n",
       "       'acf092f46e81', 'a120007b7798', '06702fda3e46', 'aa06275ba5a2',\n",
       "       '49336aa1715d', '8b29d8fc8386', 'cec6506ae088', '613f1d17569a',\n",
       "       '997cb42b095c', '21e74451fc57', 'a7de418fbaa3', 'eabcc33d311f'],\n",
       "      dtype='<U12')"
      ]
     },
     "execution_count": 4,
     "metadata": {},
     "output_type": "execute_result"
    }
   ],
   "source": [
    "train_cite[0:100][0]"
   ]
  },
  {
   "cell_type": "code",
   "execution_count": 13,
   "metadata": {},
   "outputs": [
    {
     "data": {
      "text/plain": [
       "(100, 22050)"
      ]
     },
     "execution_count": 13,
     "metadata": {},
     "output_type": "execute_result"
    }
   ],
   "source": [
    "train_cite[100:200][1].shape"
   ]
  },
  {
   "cell_type": "code",
   "execution_count": 14,
   "metadata": {},
   "outputs": [
    {
     "data": {
      "text/plain": [
       "(100, 140)"
      ]
     },
     "execution_count": 14,
     "metadata": {},
     "output_type": "execute_result"
    }
   ],
   "source": [
    "train_cite[0:100][2].shape"
   ]
  },
  {
   "cell_type": "code",
   "execution_count": null,
   "metadata": {},
   "outputs": [],
   "source": []
  },
  {
   "cell_type": "code",
   "execution_count": 15,
   "metadata": {},
   "outputs": [],
   "source": [
    "train_loader_cite = DataLoader(train_cite, batch_size=100, num_workers=0, shuffle=False)"
   ]
  },
  {
   "cell_type": "code",
   "execution_count": 16,
   "metadata": {},
   "outputs": [],
   "source": [
    "cells, inputs, targets = next(iter(train_loader_cite))"
   ]
  },
  {
   "cell_type": "code",
   "execution_count": 19,
   "metadata": {},
   "outputs": [
    {
     "data": {
      "text/plain": [
       "100"
      ]
     },
     "execution_count": 19,
     "metadata": {},
     "output_type": "execute_result"
    }
   ],
   "source": [
    "len(cells)"
   ]
  },
  {
   "cell_type": "code",
   "execution_count": 20,
   "metadata": {},
   "outputs": [
    {
     "data": {
      "text/plain": [
       "torch.Size([100, 22050])"
      ]
     },
     "execution_count": 20,
     "metadata": {},
     "output_type": "execute_result"
    }
   ],
   "source": [
    "inputs.shape"
   ]
  },
  {
   "cell_type": "code",
   "execution_count": 21,
   "metadata": {},
   "outputs": [
    {
     "data": {
      "text/plain": [
       "torch.Size([100, 140])"
      ]
     },
     "execution_count": 21,
     "metadata": {},
     "output_type": "execute_result"
    }
   ],
   "source": [
    "targets.shape"
   ]
  },
  {
   "cell_type": "code",
   "execution_count": 22,
   "metadata": {},
   "outputs": [
    {
     "name": "stdout",
     "output_type": "stream",
     "text": [
      "100 torch.Size([100, 22050]) torch.Size([100, 140])\n",
      "100 torch.Size([100, 22050]) torch.Size([100, 140])\n",
      "100 torch.Size([100, 22050]) torch.Size([100, 140])\n",
      "100 torch.Size([100, 22050]) torch.Size([100, 140])\n",
      "100 torch.Size([100, 22050]) torch.Size([100, 140])\n",
      "100 torch.Size([100, 22050]) torch.Size([100, 140])\n"
     ]
    }
   ],
   "source": [
    "i = 0\n",
    "for cells,features,targets in train_loader_cite:\n",
    "    # model.traning()\n",
    "    print(len(cells), features.shape, targets.shape)\n",
    "    i += 1\n",
    "    if i > 5:\n",
    "        break"
   ]
  },
  {
   "cell_type": "code",
   "execution_count": 6,
   "metadata": {},
   "outputs": [],
   "source": [
    "train_multi = SingleCellDataset(FP_MULTIOME_TRAIN_INPUTS,FP_MULTIOME_TRAIN_TARGETS)"
   ]
  },
  {
   "cell_type": "code",
   "execution_count": null,
   "metadata": {},
   "outputs": [],
   "source": []
  }
 ],
 "metadata": {
  "kernelspec": {
   "display_name": "Python 3.8.3 ('base')",
   "language": "python",
   "name": "python3"
  },
  "language_info": {
   "codemirror_mode": {
    "name": "ipython",
    "version": 3
   },
   "file_extension": ".py",
   "mimetype": "text/x-python",
   "name": "python",
   "nbconvert_exporter": "python",
   "pygments_lexer": "ipython3",
   "version": "3.8.3"
  },
  "orig_nbformat": 4,
  "vscode": {
   "interpreter": {
    "hash": "988c794135c7b53f1bd55a0ab2ba580152f2cd81db3906515a6ddf7fd2edeb28"
   }
  }
 },
 "nbformat": 4,
 "nbformat_minor": 2
}
