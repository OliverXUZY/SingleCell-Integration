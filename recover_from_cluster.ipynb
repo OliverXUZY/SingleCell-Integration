{
 "cells": [
  {
   "cell_type": "code",
   "execution_count": 40,
   "metadata": {},
   "outputs": [],
   "source": [
    "import os\n",
    "import sys\n",
    "import numpy as np\n",
    "import pandas as pd\n",
    "import h5py\n",
    "import hdf5plugin\n",
    "import joblib\n",
    "\n",
    "from sklearn.cluster import KMeans\n",
    "import func.prepro as pp\n",
    "import gc\n",
    "from tqdm import tqdm\n",
    "\n",
    "# visualizations\n",
    "import plotly.express as px\n",
    "import plotly.offline as pyo\n",
    "import plotly\n",
    "import plotly.graph_objs as go\n",
    "from plotly.subplots import make_subplots\n",
    "import seaborn as sns\n",
    "import matplotlib.pyplot as plt"
   ]
  },
  {
   "cell_type": "code",
   "execution_count": 3,
   "metadata": {},
   "outputs": [],
   "source": [
    "DATA_DIR = \"C:\\OneDrive\\OneDrive - UW-Madison\\Kris\\Code\\SingleCell-Integration\"\n",
    "\n",
    "RAW_DATA_DIR = os.path.join(DATA_DIR, \"open-problems-multimodal/raw\")\n",
    "PRO_DATA_DIR = os.path.join(DATA_DIR, \"open-problems-multimodal/processed\")\n",
    "METHOD_DIR = os.path.join(DATA_DIR, \"methods\")\n",
    "\n",
    "FP_CELL_METADATA = os.path.join(RAW_DATA_DIR,\"metadata.csv\")\n",
    "\n",
    "FP_CITE_TRAIN_INPUTS = os.path.join(RAW_DATA_DIR,\"train_cite_inputs.h5\")\n",
    "FP_CITE_TRAIN_TARGETS = os.path.join(RAW_DATA_DIR,\"train_cite_targets.h5\")\n",
    "FP_CITE_TEST_INPUTS = os.path.join(RAW_DATA_DIR,\"test_cite_inputs.h5\")\n",
    "\n",
    "FP_MULTIOME_TRAIN_INPUTS = os.path.join(RAW_DATA_DIR,\"train_multi_inputs.h5\")\n",
    "FP_MULTIOME_TRAIN_TARGETS = os.path.join(RAW_DATA_DIR,\"train_multi_targets.h5\")\n",
    "FP_MULTIOME_TEST_INPUTS = os.path.join(RAW_DATA_DIR,\"test_multi_inputs.h5\")\n",
    "\n",
    "FP_SUBMISSION = os.path.join(RAW_DATA_DIR,\"sample_submission.csv\")\n",
    "FP_EVALUATION_IDS = os.path.join(RAW_DATA_DIR,\"evaluation_ids.csv\")\n",
    "\n",
    "FP_KMEANS_MODEL = os.path.join(METHOD_DIR, \"train_multi_targets_kmeans.m\")\n",
    "FP_NZINDEX = os.path.join(PRO_DATA_DIR, \"train_multi_nzindex.csv\")"
   ]
  },
  {
   "cell_type": "code",
   "execution_count": 4,
   "metadata": {},
   "outputs": [],
   "source": [
    "train_multi_targets = pp.readH5pyFile(FP_MULTIOME_TRAIN_TARGETS)"
   ]
  },
  {
   "cell_type": "code",
   "execution_count": 5,
   "metadata": {},
   "outputs": [],
   "source": [
    "train_targets = train_multi_targets[\"block0_values\"]\n",
    "n_targets = train_targets.shape[1]"
   ]
  },
  {
   "cell_type": "code",
   "execution_count": 6,
   "metadata": {},
   "outputs": [
    {
     "data": {
      "text/plain": [
       "(105942, 23418)"
      ]
     },
     "execution_count": 6,
     "metadata": {},
     "output_type": "execute_result"
    }
   ],
   "source": [
    "train_targets.shape"
   ]
  },
  {
   "cell_type": "code",
   "execution_count": 7,
   "metadata": {},
   "outputs": [
    {
     "name": "stderr",
     "output_type": "stream",
     "text": [
      "c:\\Anaconda\\lib\\site-packages\\sklearn\\base.py:329: UserWarning:\n",
      "\n",
      "Trying to unpickle estimator KMeans from version 0.24.2 when using version 1.0.2. This might lead to breaking code or invalid results. Use at your own risk. For more info please refer to:\n",
      "https://scikit-learn.org/stable/modules/model_persistence.html#security-maintainability-limitations\n",
      "\n"
     ]
    }
   ],
   "source": [
    "km = joblib.load(FP_KMEANS_MODEL)"
   ]
  },
  {
   "cell_type": "code",
   "execution_count": 8,
   "metadata": {},
   "outputs": [
    {
     "data": {
      "text/plain": [
       "{'algorithm': 'auto',\n",
       " 'copy_x': True,\n",
       " 'init': 'random',\n",
       " 'max_iter': 300,\n",
       " 'n_clusters': 100,\n",
       " 'n_init': 10,\n",
       " 'random_state': 42,\n",
       " 'tol': 0.0001,\n",
       " 'verbose': 0}"
      ]
     },
     "execution_count": 8,
     "metadata": {},
     "output_type": "execute_result"
    }
   ],
   "source": [
    "km.get_params()"
   ]
  },
  {
   "cell_type": "code",
   "execution_count": 9,
   "metadata": {},
   "outputs": [
    {
     "data": {
      "text/plain": [
       "(11453,)"
      ]
     },
     "execution_count": 9,
     "metadata": {},
     "output_type": "execute_result"
    }
   ],
   "source": [
    "km.labels_.shape"
   ]
  },
  {
   "cell_type": "code",
   "execution_count": 10,
   "metadata": {},
   "outputs": [],
   "source": [
    "nz_index = np.array(pd.read_csv(FP_NZINDEX, header=None, dtype=int))\n",
    "n_nz = nz_index.shape[0]"
   ]
  },
  {
   "cell_type": "code",
   "execution_count": 11,
   "metadata": {},
   "outputs": [],
   "source": [
    "# colmean_target = train_targets.mean(axis = 0)\n",
    "# nz_index = np.where(colmean_target > 0.25)[0]"
   ]
  },
  {
   "cell_type": "code",
   "execution_count": 12,
   "metadata": {},
   "outputs": [
    {
     "data": {
      "text/plain": [
       "(11453, 1)"
      ]
     },
     "execution_count": 12,
     "metadata": {},
     "output_type": "execute_result"
    }
   ],
   "source": [
    "nz_index.shape"
   ]
  },
  {
   "cell_type": "code",
   "execution_count": 30,
   "metadata": {},
   "outputs": [],
   "source": [
    "raw_pred = range(0,100)\n",
    "pred = np.zeros(n_targets)\n",
    "n_y = km.n_clusters\n",
    "# i_nz = np.where(km.labels_==3)\n",
    "# pred[nz_index[i_nz]] = raw_pred[3]\n",
    "for i_y in range(n_y):\n",
    "    i_nz = np.where(km.labels_==i_y)\n",
    "    pred[nz_index[i_nz]] = raw_pred[i_y]"
   ]
  },
  {
   "cell_type": "code",
   "execution_count": 34,
   "metadata": {},
   "outputs": [
    {
     "data": {
      "text/plain": [
       "0.0"
      ]
     },
     "execution_count": 34,
     "metadata": {},
     "output_type": "execute_result"
    }
   ],
   "source": [
    "np.min(pred)"
   ]
  },
  {
   "cell_type": "code",
   "execution_count": 32,
   "metadata": {},
   "outputs": [
    {
     "data": {
      "text/plain": [
       "<AxesSubplot:ylabel='Count'>"
      ]
     },
     "execution_count": 32,
     "metadata": {},
     "output_type": "execute_result"
    },
    {
     "data": {
      "image/png": "[encoded data removed]",
      "text/plain": [
       "<Figure size 640x480 with 1 Axes>"
      ]
     },
     "metadata": {},
     "output_type": "display_data"
    }
   ],
   "source": [
    "sns.histplot(data=pred)"
   ]
  },
  {
   "cell_type": "code",
   "execution_count": 76,
   "metadata": {},
   "outputs": [],
   "source": [
    "def recover_from_cluster_scatter(raw_pred, cluster_model, nz_index, n_targets, batch_size):\n",
    "    # raw_pred: prediction for those clusters, say 100 clusters, then 100 predictions (for one observation)\n",
    "    # cluster_model: the model used for clustering\n",
    "    # nz_index: the index for all non-zero values (columns)\n",
    "    # n_targets: how many targets in total\n",
    "    # batch_size: number of observations\n",
    "    pred = np.zeros(n_targets)\n",
    "    n_y = cluster_model.n_clusters # how many clusters do we have\n",
    "    for i_y in range(n_y):          # i_y is the index for clusters\n",
    "        i_nz = np.where(cluster_model.labels_==i_y)    #i_nz is the index (in the nonzero items) where the item belongs to cluster i_y\n",
    "        pred[nz_index[i_nz]] = raw_pred[i_y]    # nz_index[i_nz] is the index (in the full prediction) where the item belongs to cluster i_y\n",
    "    return pred"
   ]
  },
  {
   "cell_type": "code",
   "execution_count": 36,
   "metadata": {},
   "outputs": [],
   "source": [
    "pred = recover_from_cluster_scatter(range(100,200), km, nz_index, 23418)"
   ]
  },
  {
   "cell_type": "code",
   "execution_count": 37,
   "metadata": {},
   "outputs": [
    {
     "data": {
      "text/plain": [
       "array([177., 177., 177., ..., 145., 124., 165.])"
      ]
     },
     "execution_count": 37,
     "metadata": {},
     "output_type": "execute_result"
    }
   ],
   "source": [
    "pred"
   ]
  },
  {
   "cell_type": "code",
   "execution_count": 101,
   "metadata": {},
   "outputs": [],
   "source": [
    "def recover_from_cluster(raw_pred, cluster_model, nz_index, n_targets, batch_size):\n",
    "    # raw_pred: prediction for those clusters, size: batch_size*raw_pred\n",
    "    # cluster_model: the model used for clustering\n",
    "    # nz_index: the index for all non-zero values (columns), size: number of non-zero columns\n",
    "    # n_targets: how many targets in total\n",
    "    # batch_size: number of observations (rows)\n",
    "    pred = np.zeros([batch_size, n_targets])\n",
    "    n_y = cluster_model.n_clusters # how many clusters do we have\n",
    "    for i_y in range(n_y):          # i_y is the index for clusters\n",
    "        i_nz = np.where(cluster_model.labels_==i_y)    #i_nz is the index (in the nonzero items) where the item belongs to cluster i_y\n",
    "        pred[:,nz_index[i_nz]] = np.tile(raw_pred[:,i_y],[1,len(i_nz)]).T    # nz_index[i_nz] is the index (in the full prediction) where the item belongs to cluster i_y\n",
    "    return pred"
   ]
  },
  {
   "cell_type": "code",
   "execution_count": 104,
   "metadata": {},
   "outputs": [],
   "source": [
    "n_r = 5     # rows\n",
    "n_t = 10    # targets\n",
    "n_cl = 3    # clusters\n",
    "nz_test = np.array([0,2,4,6,8]) # index of elements that are non-zero in targets\n",
    "Y = np.random.randint(0,10, (n_r, len(nz_test)))\n",
    "y = np.tile(range(1, n_cl+1), [n_r,1]) # generate raw predictions of number of clusters"
   ]
  },
  {
   "cell_type": "code",
   "execution_count": 105,
   "metadata": {},
   "outputs": [
    {
     "data": {
      "text/plain": [
       "array([[1, 2, 3],\n",
       "       [1, 2, 3],\n",
       "       [1, 2, 3],\n",
       "       [1, 2, 3],\n",
       "       [1, 2, 3]])"
      ]
     },
     "execution_count": 105,
     "metadata": {},
     "output_type": "execute_result"
    }
   ],
   "source": [
    "y"
   ]
  },
  {
   "cell_type": "code",
   "execution_count": 106,
   "metadata": {},
   "outputs": [
    {
     "data": {
      "text/plain": [
       "KMeans(n_clusters=3)"
      ]
     },
     "execution_count": 106,
     "metadata": {},
     "output_type": "execute_result"
    }
   ],
   "source": [
    "km_test = KMeans(n_clusters=n_cl)\n",
    "km_test.fit(Y.T)"
   ]
  },
  {
   "cell_type": "code",
   "execution_count": 107,
   "metadata": {},
   "outputs": [
    {
     "data": {
      "text/plain": [
       "array([1, 2, 1, 0, 1])"
      ]
     },
     "execution_count": 107,
     "metadata": {},
     "output_type": "execute_result"
    }
   ],
   "source": [
    "km_test.labels_"
   ]
  },
  {
   "cell_type": "code",
   "execution_count": 108,
   "metadata": {},
   "outputs": [],
   "source": [
    "pred = recover_from_cluster(y, km_test, nz_test, n_t, n_r)"
   ]
  },
  {
   "cell_type": "code",
   "execution_count": 109,
   "metadata": {},
   "outputs": [
    {
     "data": {
      "text/plain": [
       "array([[2., 0., 3., 0., 2., 0., 1., 0., 2., 0.],\n",
       "       [2., 0., 3., 0., 2., 0., 1., 0., 2., 0.],\n",
       "       [2., 0., 3., 0., 2., 0., 1., 0., 2., 0.],\n",
       "       [2., 0., 3., 0., 2., 0., 1., 0., 2., 0.],\n",
       "       [2., 0., 3., 0., 2., 0., 1., 0., 2., 0.]])"
      ]
     },
     "execution_count": 109,
     "metadata": {},
     "output_type": "execute_result"
    }
   ],
   "source": [
    "pred"
   ]
  },
  {
   "cell_type": "code",
   "execution_count": 95,
   "metadata": {},
   "outputs": [],
   "source": []
  },
  {
   "cell_type": "code",
   "execution_count": 86,
   "metadata": {},
   "outputs": [
    {
     "data": {
      "text/plain": [
       "array([[0., 0., 0., 0.],\n",
       "       [0., 0., 0., 0.]])"
      ]
     },
     "execution_count": 86,
     "metadata": {},
     "output_type": "execute_result"
    }
   ],
   "source": [
    "np.zeros([2,4])"
   ]
  }
 ],
 "metadata": {
  "kernelspec": {
   "display_name": "Python 3.9.13 ('base')",
   "language": "python",
   "name": "python3"
  },
  "language_info": {
   "codemirror_mode": {
    "name": "ipython",
    "version": 3
   },
   "file_extension": ".py",
   "mimetype": "text/x-python",
   "name": "python",
   "nbconvert_exporter": "python",
   "pygments_lexer": "ipython3",
   "version": "3.9.13"
  },
  "orig_nbformat": 4,
  "vscode": {
   "interpreter": {
    "hash": "6f5583cf1d9466b5c27e75c89cc6b383bed5736d6b16c51c8074d8690011a952"
   }
  }
 },
 "nbformat": 4,
 "nbformat_minor": 2
}
