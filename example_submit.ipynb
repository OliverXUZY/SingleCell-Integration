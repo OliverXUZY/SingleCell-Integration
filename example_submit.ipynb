{
 "cells": [
  {
   "cell_type": "code",
   "execution_count": 51,
   "metadata": {},
   "outputs": [],
   "source": [
    "import gc\n",
    "import joblib\n",
    "import func.data as dt\n",
    "import h5py\n",
    "import hdf5plugin\n",
    "\n",
    "import sklearn as sk\n",
    "import pandas as pd\n",
    "import numpy as np\n",
    "import pathlib as pl\n",
    "\n",
    "from sklearn.preprocessing import StandardScaler\n",
    "from sklearn.decomposition import PCA\n",
    "from sklearn.model_selection import train_test_split\n",
    "from sklearn.model_selection import GridSearchCV\n",
    "from scipy.stats import pearsonr\n",
    "from sklearn.metrics import mean_squared_error as mse\n",
    "\n",
    "from sklearn import datasets\n",
    "from sklearn.linear_model import Lasso\n",
    "\n",
    "raw_data_dir = pl.Path(\"D:/Data/open-problems-multimodal/raw\")\n",
    "pro_data_dir = pl.Path(\"D:/Data/open-problems-multimodal/processed\")\n",
    "method_dir = pl.Path(\"D:/OneDrive/OneDrive - UW-Madison/Kris/Code/SingleCell-Integration/methods\")\n",
    "\n",
    "data_name = \"multi\"\n",
    "method_name = \"lasso\""
   ]
  },
  {
   "cell_type": "code",
   "execution_count": 52,
   "metadata": {},
   "outputs": [
    {
     "ename": "MemoryError",
     "evalue": "Unable to allocate 90.4 GiB for an array with shape (105942, 228942) and data type float32",
     "output_type": "error",
     "traceback": [
      "\u001b[1;31m---------------------------------------------------------------------------\u001b[0m",
      "\u001b[1;31mMemoryError\u001b[0m                               Traceback (most recent call last)",
      "\u001b[1;32m~\\AppData\\Local\\Temp/ipykernel_15852/1283486262.py\u001b[0m in \u001b[0;36m<module>\u001b[1;34m\u001b[0m\n\u001b[1;32m----> 1\u001b[1;33m \u001b[0mtrain_input\u001b[0m \u001b[1;33m=\u001b[0m \u001b[0mdt\u001b[0m\u001b[1;33m.\u001b[0m\u001b[0mreadH5pyFile\u001b[0m\u001b[1;33m(\u001b[0m\u001b[0mdata_dir\u001b[0m \u001b[1;33m/\u001b[0m \u001b[1;34mf\"train_{data_name}_inputs.h5\"\u001b[0m\u001b[1;33m)\u001b[0m\u001b[1;33m\u001b[0m\u001b[1;33m\u001b[0m\u001b[0m\n\u001b[0m\u001b[0;32m      2\u001b[0m \u001b[0mtrain_target\u001b[0m \u001b[1;33m=\u001b[0m \u001b[0mdt\u001b[0m\u001b[1;33m.\u001b[0m\u001b[0mreadH5pyFile\u001b[0m\u001b[1;33m(\u001b[0m\u001b[0mdata_dir\u001b[0m \u001b[1;33m/\u001b[0m \u001b[1;34mf\"train_{data_name}_targets.h5\"\u001b[0m\u001b[1;33m)\u001b[0m\u001b[1;33m\u001b[0m\u001b[1;33m\u001b[0m\u001b[0m\n",
      "\u001b[1;32md:\\OneDrive\\OneDrive - UW-Madison\\Kris\\Code\\SingleCell-Integration\\func\\data.py\u001b[0m in \u001b[0;36mreadH5pyFile\u001b[1;34m(filename)\u001b[0m\n\u001b[0;32m      9\u001b[0m         \u001b[0md\u001b[0m \u001b[1;33m=\u001b[0m \u001b[1;33m{\u001b[0m\u001b[1;33m}\u001b[0m\u001b[1;33m\u001b[0m\u001b[1;33m\u001b[0m\u001b[0m\n\u001b[0;32m     10\u001b[0m         \u001b[1;32mfor\u001b[0m \u001b[0mi\u001b[0m \u001b[1;32min\u001b[0m \u001b[0mlist\u001b[0m\u001b[1;33m(\u001b[0m\u001b[0mgroup\u001b[0m\u001b[1;33m.\u001b[0m\u001b[0mkeys\u001b[0m\u001b[1;33m(\u001b[0m\u001b[1;33m)\u001b[0m\u001b[1;33m)\u001b[0m\u001b[1;33m:\u001b[0m\u001b[1;33m\u001b[0m\u001b[1;33m\u001b[0m\u001b[0m\n\u001b[1;32m---> 11\u001b[1;33m             \u001b[0md\u001b[0m\u001b[1;33m[\u001b[0m\u001b[0mi\u001b[0m\u001b[1;33m]\u001b[0m \u001b[1;33m=\u001b[0m \u001b[0mgroup\u001b[0m\u001b[1;33m[\u001b[0m\u001b[0mi\u001b[0m\u001b[1;33m]\u001b[0m\u001b[1;33m[\u001b[0m\u001b[1;33m(\u001b[0m\u001b[1;33m)\u001b[0m\u001b[1;33m]\u001b[0m\u001b[1;33m\u001b[0m\u001b[1;33m\u001b[0m\u001b[0m\n\u001b[0m\u001b[0;32m     12\u001b[0m     \u001b[1;32mreturn\u001b[0m \u001b[0md\u001b[0m\u001b[1;33m\u001b[0m\u001b[1;33m\u001b[0m\u001b[0m\n\u001b[0;32m     13\u001b[0m \u001b[1;33m\u001b[0m\u001b[0m\n",
      "\u001b[1;32mh5py\\_objects.pyx\u001b[0m in \u001b[0;36mh5py._objects.with_phil.wrapper\u001b[1;34m()\u001b[0m\n",
      "\u001b[1;32mh5py\\_objects.pyx\u001b[0m in \u001b[0;36mh5py._objects.with_phil.wrapper\u001b[1;34m()\u001b[0m\n",
      "\u001b[1;32md:\\Anaconda\\Anaconda3\\lib\\site-packages\\h5py\\_hl\\dataset.py\u001b[0m in \u001b[0;36m__getitem__\u001b[1;34m(self, args, new_dtype)\u001b[0m\n\u001b[0;32m    783\u001b[0m             \u001b[1;32mreturn\u001b[0m \u001b[0mnumpy\u001b[0m\u001b[1;33m.\u001b[0m\u001b[0mndarray\u001b[0m\u001b[1;33m(\u001b[0m\u001b[0mselection\u001b[0m\u001b[1;33m.\u001b[0m\u001b[0marray_shape\u001b[0m\u001b[1;33m,\u001b[0m \u001b[0mdtype\u001b[0m\u001b[1;33m=\u001b[0m\u001b[0mnew_dtype\u001b[0m\u001b[1;33m)\u001b[0m\u001b[1;33m\u001b[0m\u001b[1;33m\u001b[0m\u001b[0m\n\u001b[0;32m    784\u001b[0m \u001b[1;33m\u001b[0m\u001b[0m\n\u001b[1;32m--> 785\u001b[1;33m         \u001b[0marr\u001b[0m \u001b[1;33m=\u001b[0m \u001b[0mnumpy\u001b[0m\u001b[1;33m.\u001b[0m\u001b[0mndarray\u001b[0m\u001b[1;33m(\u001b[0m\u001b[0mselection\u001b[0m\u001b[1;33m.\u001b[0m\u001b[0marray_shape\u001b[0m\u001b[1;33m,\u001b[0m \u001b[0mnew_dtype\u001b[0m\u001b[1;33m,\u001b[0m \u001b[0morder\u001b[0m\u001b[1;33m=\u001b[0m\u001b[1;34m'C'\u001b[0m\u001b[1;33m)\u001b[0m\u001b[1;33m\u001b[0m\u001b[1;33m\u001b[0m\u001b[0m\n\u001b[0m\u001b[0;32m    786\u001b[0m \u001b[1;33m\u001b[0m\u001b[0m\n\u001b[0;32m    787\u001b[0m         \u001b[1;31m# Perform the actual read\u001b[0m\u001b[1;33m\u001b[0m\u001b[1;33m\u001b[0m\u001b[0m\n",
      "\u001b[1;31mMemoryError\u001b[0m: Unable to allocate 90.4 GiB for an array with shape (105942, 228942) and data type float32"
     ]
    }
   ],
   "source": [
    "train_input = dt.readH5pyFile(raw_data_dir / f\"train_{data_name}_inputs.h5\")\n",
    "train_target = dt.readH5pyFile(raw_data_dir / f\"train_{data_name}_targets.h5\")"
   ]
  },
  {
   "cell_type": "code",
   "execution_count": null,
   "metadata": {},
   "outputs": [],
   "source": [
    "train_input_val = train_input['block0_values']\n",
    "train_target_val = train_target['block0_values']"
   ]
  },
  {
   "cell_type": "code",
   "execution_count": null,
   "metadata": {},
   "outputs": [
    {
     "name": "stdout",
     "output_type": "stream",
     "text": [
      "[[0.        0.        0.        ... 0.        4.090185  0.       ]\n",
      " [0.        0.        0.        ... 0.        0.        0.       ]\n",
      " [0.        0.        0.        ... 3.8473213 3.8473213 0.       ]\n",
      " ...\n",
      " [0.        0.        0.        ... 4.497696  0.        0.       ]\n",
      " [0.        0.        0.        ... 0.        0.        3.9009068]\n",
      " [0.        0.        0.        ... 0.        4.1895022 4.1895022]]\n",
      "[[ 1.1678035   0.62253     0.10695851 ...  0.41429165  1.780314\n",
      "   0.5480701 ]\n",
      " [ 0.81897014  0.50600946  1.078682   ...  0.9823084   2.736507\n",
      "   2.1840627 ]\n",
      " [-0.3567033  -0.42226133 -0.82449275 ... -1.182975    3.958148\n",
      "   2.8686    ]\n",
      " ...\n",
      " [ 1.2213128   0.47656643  1.4375515  ...  0.98188305  6.911032\n",
      "   3.4153101 ]\n",
      " [-0.15143251 -0.850024    0.46155566 ...  1.0102471   1.8648046\n",
      "   3.4492888 ]\n",
      " [-0.4392985  -0.33832696  0.80367655 ...  0.6188518   7.220644\n",
      "   3.2343602 ]]\n",
      "(70988, 22050)\n",
      "(70988, 140)\n"
     ]
    }
   ],
   "source": [
    "print(train_input_val)\n",
    "print(train_target_val)\n",
    "print(train_input_val.shape)\n",
    "print(train_target_val.shape)"
   ]
  },
  {
   "cell_type": "code",
   "execution_count": null,
   "metadata": {},
   "outputs": [],
   "source": [
    "# Run standardization and PCA\n",
    "p = 500\n",
    "\n",
    "train_sdsc = StandardScaler()\n",
    "train_input_sdsc = train_sdsc.fit_transform(train_input_val)\n",
    "\n",
    "train_pca = PCA(n_components=p)\n",
    "X_train = train_pca.fit_transform(train_input_sdsc)\n",
    "\n",
    "# X_train = pd.DataFrame(train_pca.transform(train_input_sdsc))"
   ]
  },
  {
   "cell_type": "code",
   "execution_count": null,
   "metadata": {},
   "outputs": [],
   "source": [
    "# save intermediate results\n",
    "\n",
    "joblib.dump(train_sdsc, method_dir / f\"train_{data_name}_sdsc.m\")\n",
    "joblib.dump(train_pca, method_dir / f\"train_{data_name}_pca.m\")\n",
    "\n",
    "np.savetxt(pro_data_dir / f\"train_{data_name}_pca.csv\", X_train, delimiter=\",\")\n",
    "# X_train.to_csv(data_dir / f\"train_{data_name}_pca.csv\")"
   ]
  },
  {
   "cell_type": "code",
   "execution_count": null,
   "metadata": {},
   "outputs": [
    {
     "name": "stdout",
     "output_type": "stream",
     "text": [
      "(70988, 500)\n",
      "(70988, 140)\n"
     ]
    }
   ],
   "source": [
    "y_train = train_target_val\n",
    "print(X_train.shape)\n",
    "print(y_train.shape)"
   ]
  },
  {
   "cell_type": "code",
   "execution_count": null,
   "metadata": {},
   "outputs": [
    {
     "data": {
      "text/plain": [
       "GridSearchCV(cv=5, estimator=Lasso(),\n",
       "             param_grid=[{'alpha': [0.01, 0.05, 0.1, 0.2, 0.5, 1.0]}],\n",
       "             scoring='neg_mean_squared_error')"
      ]
     },
     "execution_count": 33,
     "metadata": {},
     "output_type": "execute_result"
    }
   ],
   "source": [
    "param_grid = [{'alpha': [0.01, 0.05, 0.1, 0.2, 0.5, 1.0]}]\n",
    "model = Lasso()\n",
    "grid_search = GridSearchCV(model, param_grid, cv=5, scoring='neg_mean_squared_error')\n",
    "grid_search.fit(X_train, y_train)"
   ]
  },
  {
   "cell_type": "code",
   "execution_count": null,
   "metadata": {},
   "outputs": [
    {
     "data": {
      "text/plain": [
       "['D:\\\\Data\\\\open-problems-multimodal\\\\raw\\\\cite_lasso.m']"
      ]
     },
     "execution_count": 50,
     "metadata": {},
     "output_type": "execute_result"
    }
   ],
   "source": [
    "best_model = grid_search.best_estimator_\n",
    "joblib.dump(best_model, method_dir / f\"{data_name}_{method_name}.m\")"
   ]
  },
  {
   "cell_type": "code",
   "execution_count": null,
   "metadata": {},
   "outputs": [
    {
     "name": "stdout",
     "output_type": "stream",
     "text": [
      "Lasso(alpha=0.01)\n",
      "{'mean_fit_time': array([19.79302073, 14.89189587, 15.05706944, 14.04256368, 12.72947178,\n",
      "       11.99321351]), 'std_fit_time': array([1.16901937, 0.21752129, 0.74390683, 0.34442715, 0.22871756,\n",
      "       0.30382576]), 'mean_score_time': array([0.04976168, 0.02622051, 0.02902412, 0.03018684, 0.02810974,\n",
      "       0.02840638]), 'std_score_time': array([0.04185741, 0.00235663, 0.00263576, 0.00174985, 0.00150136,\n",
      "       0.00135673]), 'param_alpha': masked_array(data=[0.01, 0.05, 0.1, 0.2, 0.5, 1.0],\n",
      "             mask=[False, False, False, False, False, False],\n",
      "       fill_value='?',\n",
      "            dtype=object), 'params': [{'alpha': 0.01}, {'alpha': 0.05}, {'alpha': 0.1}, {'alpha': 0.2}, {'alpha': 0.5}, {'alpha': 1.0}], 'split0_test_score': array([-2.32549405, -2.32505178, -2.33663487, -2.37575936, -2.49759436,\n",
      "       -2.65978646]), 'split1_test_score': array([-2.76539707, -2.79367328, -2.83223963, -2.89754891, -3.04684067,\n",
      "       -3.22223663]), 'split2_test_score': array([-3.36953235, -3.3640027 , -3.3765564 , -3.42803621, -3.60580182,\n",
      "       -3.87435222]), 'split3_test_score': array([-2.36137748, -2.38466454, -2.42238069, -2.49278092, -2.64600396,\n",
      "       -2.83528614]), 'split4_test_score': array([-2.43569517, -2.45699048, -2.49298263, -2.55756235, -2.70198965,\n",
      "       -2.87097001]), 'mean_test_score': array([-2.65149922, -2.66487656, -2.69215884, -2.75033755, -2.89964609,\n",
      "       -3.09252629]), 'std_test_score': array([0.39129674, 0.38537832, 0.38127978, 0.38072383, 0.39632566,\n",
      "       0.43141627]), 'rank_test_score': array([1, 2, 3, 4, 5, 6])}\n"
     ]
    }
   ],
   "source": [
    "print(best_model)\n",
    "print(grid_search.cv_results_)"
   ]
  },
  {
   "cell_type": "code",
   "execution_count": null,
   "metadata": {},
   "outputs": [],
   "source": [
    "# Make prediction\n",
    "\n",
    "test_input = dt.readH5pyFile(raw_data_dir / f\"test_{data_name}_inputs.h5\")"
   ]
  },
  {
   "cell_type": "code",
   "execution_count": null,
   "metadata": {},
   "outputs": [],
   "source": [
    "test_input_val = test_input[\"block0_values\"]\n",
    "print(test_input_val.shape)"
   ]
  },
  {
   "cell_type": "code",
   "execution_count": null,
   "metadata": {},
   "outputs": [],
   "source": [
    "X_test = train_pca.transform(train_sdsc.transform(test_input_val))\n",
    "y_pred = best_model.predict(X_test)"
   ]
  },
  {
   "cell_type": "code",
   "execution_count": null,
   "metadata": {},
   "outputs": [
    {
     "name": "stdout",
     "output_type": "stream",
     "text": [
      "(48663, 140)\n"
     ]
    }
   ],
   "source": [
    "print(y_pred.shape)"
   ]
  },
  {
   "cell_type": "code",
   "execution_count": 47,
   "metadata": {},
   "outputs": [],
   "source": [
    "np.savetxt(pro_data_dir / f\"test_{data_name}_{method_name}_pred.csv\", y_pred, delimiter=\",\")"
   ]
  }
 ],
 "metadata": {
  "kernelspec": {
   "display_name": "Python 3.9.7 ('base')",
   "language": "python",
   "name": "python3"
  },
  "language_info": {
   "codemirror_mode": {
    "name": "ipython",
    "version": 3
   },
   "file_extension": ".py",
   "mimetype": "text/x-python",
   "name": "python",
   "nbconvert_exporter": "python",
   "pygments_lexer": "ipython3",
   "version": "3.9.7"
  },
  "orig_nbformat": 4,
  "vscode": {
   "interpreter": {
    "hash": "a5f44439766e47113308a61c45e3ba0ce79cefad900abb614d22e5ec5db7fbe0"
   }
  }
 },
 "nbformat": 4,
 "nbformat_minor": 2
}
