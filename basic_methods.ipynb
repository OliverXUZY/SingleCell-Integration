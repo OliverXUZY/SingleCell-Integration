{
 "cells": [
  {
   "cell_type": "code",
   "execution_count": 17,
   "id": "6b2081dc",
   "metadata": {},
   "outputs": [],
   "source": [
    "import gc\n",
    "import joblib\n",
    "\n",
    "import sklearn as sk\n",
    "import pandas as pd\n",
    "import numpy as np\n",
    "import pathlib as pl\n",
    "\n",
    "from sklearn.preprocessing import StandardScaler\n",
    "from sklearn.decomposition import PCA\n",
    "from sklearn.model_selection import train_test_split\n",
    "from sklearn.model_selection import GridSearchCV\n",
    "from scipy.stats import pearsonr\n",
    "from sklearn.metrics import mean_squared_error as mse\n",
    "\n",
    "from sklearn import datasets\n",
    "from sklearn.linear_model import Ridge\n",
    "from sklearn.linear_model import Lasso\n",
    "#from sklearn.ensemble import RandomForestRegressor as RFR\n",
    "#from xgboost import XGBRegressor as XGBR\n",
    "#from lightgbm import LGBMRegressor as LGBM\n",
    "\n",
    "data_dir = pl.Path(\"D:/Data/open-problems-multimodal/processed\")"
   ]
  },
  {
   "cell_type": "code",
   "execution_count": 3,
   "id": "0aeefbe0",
   "metadata": {},
   "outputs": [],
   "source": [
    "train_input = pd.read_csv(data_dir / \"internal_train_train_cite_inputs.csv\", index_col=0)\n",
    "train_target = pd.read_csv(data_dir / \"internal_train_train_cite_targets.csv\", index_col=0)"
   ]
  },
  {
   "cell_type": "code",
   "execution_count": 4,
   "id": "64b8e197",
   "metadata": {},
   "outputs": [
    {
     "name": "stdout",
     "output_type": "stream",
     "text": [
      "              ENSG00000121410_A1BG  ENSG00000268895_A1BG-AS1  \\\n",
      "cell_id                                                        \n",
      "45006fe3e4c8                   0.0                       0.0   \n",
      "d02759a80ba2                   0.0                       0.0   \n",
      "c016c6b0efa5                   0.0                       0.0   \n",
      "ba7f733a4f75                   0.0                       0.0   \n",
      "fbcf2443ffb2                   0.0                       0.0   \n",
      "...                            ...                       ...   \n",
      "0169f964147e                   0.0                       0.0   \n",
      "7203b2ace768                   0.0                       0.0   \n",
      "834449e1a23d                   0.0                       0.0   \n",
      "769790e1b39a                   0.0                       0.0   \n",
      "e7012ac38766                   0.0                       0.0   \n",
      "\n",
      "              ENSG00000175899_A2M  ENSG00000245105_A2M-AS1  \\\n",
      "cell_id                                                      \n",
      "45006fe3e4c8                  0.0                      0.0   \n",
      "d02759a80ba2                  0.0                      0.0   \n",
      "c016c6b0efa5                  0.0                      0.0   \n",
      "ba7f733a4f75                  0.0                      0.0   \n",
      "fbcf2443ffb2                  0.0                      0.0   \n",
      "...                           ...                      ...   \n",
      "0169f964147e                  0.0                      0.0   \n",
      "7203b2ace768                  0.0                      0.0   \n",
      "834449e1a23d                  0.0                      0.0   \n",
      "769790e1b39a                  0.0                      0.0   \n",
      "e7012ac38766                  0.0                      0.0   \n",
      "\n",
      "              ENSG00000166535_A2ML1  ENSG00000128274_A4GALT  \\\n",
      "cell_id                                                       \n",
      "45006fe3e4c8                    0.0                0.000000   \n",
      "d02759a80ba2                    0.0                0.000000   \n",
      "c016c6b0efa5                    0.0                3.847321   \n",
      "ba7f733a4f75                    0.0                0.000000   \n",
      "fbcf2443ffb2                    0.0                0.000000   \n",
      "...                             ...                     ...   \n",
      "0169f964147e                    0.0                0.000000   \n",
      "7203b2ace768                    0.0                0.000000   \n",
      "834449e1a23d                    0.0                0.000000   \n",
      "769790e1b39a                    0.0                4.058700   \n",
      "e7012ac38766                    0.0                0.000000   \n",
      "\n",
      "              ENSG00000094914_AAAS  ENSG00000081760_AACS  \\\n",
      "cell_id                                                    \n",
      "45006fe3e4c8              0.000000              0.000000   \n",
      "d02759a80ba2              0.000000              0.000000   \n",
      "c016c6b0efa5              0.000000              3.847321   \n",
      "ba7f733a4f75              3.436847              3.436847   \n",
      "fbcf2443ffb2              0.000000              4.196827   \n",
      "...                            ...                   ...   \n",
      "0169f964147e              0.000000              0.000000   \n",
      "7203b2ace768              0.000000              4.735253   \n",
      "834449e1a23d              4.727729              3.367628   \n",
      "769790e1b39a              0.000000              0.000000   \n",
      "e7012ac38766              3.854621              0.000000   \n",
      "\n",
      "              ENSG00000109576_AADAT  ENSG00000103591_AAGAB  ...  \\\n",
      "cell_id                                                     ...   \n",
      "45006fe3e4c8               0.000000               0.000000  ...   \n",
      "d02759a80ba2               0.000000               0.000000  ...   \n",
      "c016c6b0efa5               3.847321               0.000000  ...   \n",
      "ba7f733a4f75               0.000000               0.000000  ...   \n",
      "fbcf2443ffb2               0.000000               0.000000  ...   \n",
      "...                             ...                    ...  ...   \n",
      "0169f964147e               0.000000               4.363767  ...   \n",
      "7203b2ace768               0.000000               0.000000  ...   \n",
      "834449e1a23d               0.000000               0.000000  ...   \n",
      "769790e1b39a               0.000000               0.000000  ...   \n",
      "e7012ac38766               0.000000               0.000000  ...   \n",
      "\n",
      "              ENSG00000153975_ZUP1  ENSG00000086827_ZW10  \\\n",
      "cell_id                                                    \n",
      "45006fe3e4c8              0.000000              0.000000   \n",
      "d02759a80ba2              0.000000              0.000000   \n",
      "c016c6b0efa5              0.000000              0.000000   \n",
      "ba7f733a4f75              3.436847              0.000000   \n",
      "fbcf2443ffb2              0.000000              4.196827   \n",
      "...                            ...                   ...   \n",
      "0169f964147e              0.000000              3.683269   \n",
      "7203b2ace768              0.000000              0.000000   \n",
      "834449e1a23d              3.367628              0.000000   \n",
      "769790e1b39a              0.000000              0.000000   \n",
      "e7012ac38766              3.854621              0.000000   \n",
      "\n",
      "              ENSG00000174442_ZWILCH  ENSG00000122952_ZWINT  \\\n",
      "cell_id                                                       \n",
      "45006fe3e4c8                0.000000               0.000000   \n",
      "d02759a80ba2                0.000000               4.039545   \n",
      "c016c6b0efa5                3.847321               4.529743   \n",
      "ba7f733a4f75                4.113780               5.020215   \n",
      "fbcf2443ffb2                4.196827               4.196827   \n",
      "...                              ...                    ...   \n",
      "0169f964147e                0.000000               5.050528   \n",
      "7203b2ace768                3.654049               5.242560   \n",
      "834449e1a23d                3.367628               4.727729   \n",
      "769790e1b39a                0.000000               0.000000   \n",
      "e7012ac38766                0.000000               0.000000   \n",
      "\n",
      "              ENSG00000198205_ZXDA  ENSG00000198455_ZXDB  \\\n",
      "cell_id                                                    \n",
      "45006fe3e4c8                   0.0                   0.0   \n",
      "d02759a80ba2                   0.0                   0.0   \n",
      "c016c6b0efa5                   0.0                   0.0   \n",
      "ba7f733a4f75                   0.0                   0.0   \n",
      "fbcf2443ffb2                   0.0                   0.0   \n",
      "...                            ...                   ...   \n",
      "0169f964147e                   0.0                   0.0   \n",
      "7203b2ace768                   0.0                   0.0   \n",
      "834449e1a23d                   0.0                   0.0   \n",
      "769790e1b39a                   0.0                   0.0   \n",
      "e7012ac38766                   0.0                   0.0   \n",
      "\n",
      "              ENSG00000070476_ZXDC  ENSG00000162378_ZYG11B  \\\n",
      "cell_id                                                      \n",
      "45006fe3e4c8               0.00000                0.000000   \n",
      "d02759a80ba2               0.00000                0.000000   \n",
      "c016c6b0efa5               0.00000                3.847321   \n",
      "ba7f733a4f75               0.00000                3.436847   \n",
      "fbcf2443ffb2               3.51861                4.196827   \n",
      "...                            ...                     ...   \n",
      "0169f964147e               0.00000                0.000000   \n",
      "7203b2ace768               0.00000                0.000000   \n",
      "834449e1a23d               0.00000                0.000000   \n",
      "769790e1b39a               0.00000                0.000000   \n",
      "e7012ac38766               0.00000                3.854621   \n",
      "\n",
      "              ENSG00000159840_ZYX  ENSG00000074755_ZZEF1  \n",
      "cell_id                                                   \n",
      "45006fe3e4c8             4.090185               0.000000  \n",
      "d02759a80ba2             0.000000               0.000000  \n",
      "c016c6b0efa5             3.847321               0.000000  \n",
      "ba7f733a4f75             4.113780               0.000000  \n",
      "fbcf2443ffb2             3.518610               0.000000  \n",
      "...                           ...                    ...  \n",
      "0169f964147e             3.683269               0.000000  \n",
      "7203b2ace768             0.000000               3.654049  \n",
      "834449e1a23d             3.367628               3.367628  \n",
      "769790e1b39a             0.000000               0.000000  \n",
      "e7012ac38766             4.537121               0.000000  \n",
      "\n",
      "[42843 rows x 22050 columns]\n",
      "                  CD86     CD274     CD270     CD155     CD112       CD47  \\\n",
      "cell_id                                                                     \n",
      "45006fe3e4c8  1.167803  0.622530  0.106959  0.324989  3.331674   6.426001   \n",
      "d02759a80ba2  0.818970  0.506009  1.078682  6.848758  3.524885   5.279456   \n",
      "c016c6b0efa5 -0.356703 -0.422261 -0.824493  1.137495  0.518925   7.221962   \n",
      "ba7f733a4f75 -1.201507  0.149115  2.022468  6.021594  7.258670   2.792436   \n",
      "fbcf2443ffb2 -0.100404  0.697461  0.625836 -0.298404  1.369898   3.254521   \n",
      "...                ...       ...       ...       ...       ...        ...   \n",
      "0169f964147e  2.246597 -0.247196  0.877820  6.324099  5.432874   7.432983   \n",
      "7203b2ace768  1.237996  0.475965 -0.516504  3.795360  6.084396   4.234612   \n",
      "834449e1a23d -0.373726 -0.382923  1.404033  5.656127  6.410265  11.572716   \n",
      "769790e1b39a -0.436088  0.297379  0.403805  7.244791  6.278086   8.690210   \n",
      "e7012ac38766  1.074273  1.572406  1.795754  3.225206  6.390394   6.466692   \n",
      "\n",
      "                   CD48      CD40     CD154      CD52  ...      CD94  \\\n",
      "cell_id                                                ...             \n",
      "45006fe3e4c8   1.480766 -0.728391 -0.468851 -0.073285  ... -0.448390   \n",
      "d02759a80ba2   4.930438  2.069372  0.333652 -0.468088  ...  0.323613   \n",
      "c016c6b0efa5  -0.375034  1.738071  0.142919 -0.971460  ...  1.348692   \n",
      "ba7f733a4f75  21.708519 -0.137913  1.649969 -0.754680  ...  1.504426   \n",
      "fbcf2443ffb2  -1.659380  0.643531  0.902710  1.291877  ...  0.777023   \n",
      "...                 ...       ...       ...       ...  ...       ...   \n",
      "0169f964147e   0.868662  1.250872  0.078197 -0.301489  ... -0.396972   \n",
      "7203b2ace768  -0.678707  1.456439  1.240912 -0.081311  ... -0.456725   \n",
      "834449e1a23d  14.851498  0.111005  0.817309  1.175769  ... -0.213113   \n",
      "769790e1b39a   0.917383  0.047241  1.167775  0.624694  ...  1.144213   \n",
      "e7012ac38766  14.811018  1.760009  0.321902  0.306226  ...  1.375774   \n",
      "\n",
      "                  CD162     CD85j      CD23     CD328     HLA-E      CD82  \\\n",
      "cell_id                                                                     \n",
      "45006fe3e4c8   3.220174 -0.533004  0.674956 -0.006187  0.682148  1.398105   \n",
      "d02759a80ba2   8.407108  0.131301  0.047607 -0.243628  0.547864  1.832587   \n",
      "c016c6b0efa5   4.888579 -0.279483 -0.131097 -0.177604 -0.689188  9.013709   \n",
      "ba7f733a4f75  12.391979  0.511394  0.587863 -0.752638  1.714851  3.893782   \n",
      "fbcf2443ffb2   6.496499  0.279898 -0.841950 -0.869419  0.675091  5.259685   \n",
      "...                 ...       ...       ...       ...       ...       ...   \n",
      "0169f964147e   9.443605  2.580716 -0.507313 -0.144612 -0.660496  6.747566   \n",
      "7203b2ace768   7.023951  1.189882 -0.384662 -0.018024  0.389299  8.680630   \n",
      "834449e1a23d  10.863695  0.707541  0.317146 -0.198539  1.264233  3.732879   \n",
      "769790e1b39a   6.417878  1.524971  0.975209 -0.237805  1.709774  5.983523   \n",
      "e7012ac38766  10.652857  0.398524  1.767782  2.779091 -1.047741  3.022560   \n",
      "\n",
      "                 CD101      CD88     CD224  \n",
      "cell_id                                     \n",
      "45006fe3e4c8  0.414292  1.780314  0.548070  \n",
      "d02759a80ba2  0.982308  2.736507  2.184063  \n",
      "c016c6b0efa5 -1.182975  3.958148  2.868600  \n",
      "ba7f733a4f75  1.799661  1.537249  4.407672  \n",
      "fbcf2443ffb2 -0.835379  9.631781  1.765445  \n",
      "...                ...       ...       ...  \n",
      "0169f964147e  0.248097  3.629298  1.327836  \n",
      "7203b2ace768  0.919926  5.388635  4.547299  \n",
      "834449e1a23d  0.525670  0.870836  5.453483  \n",
      "769790e1b39a  0.439912  0.146311  2.093068  \n",
      "e7012ac38766  1.407148  1.713529  1.378780  \n",
      "\n",
      "[42843 rows x 140 columns]\n"
     ]
    }
   ],
   "source": [
    "print(train_input)\n",
    "print(train_target)"
   ]
  },
  {
   "cell_type": "code",
   "execution_count": 5,
   "id": "d0d190af",
   "metadata": {},
   "outputs": [
    {
     "name": "stdout",
     "output_type": "stream",
     "text": [
      "(42843, 22050)\n",
      "(42843, 140)\n"
     ]
    }
   ],
   "source": [
    "print(train_input.shape)\n",
    "print(train_target.shape)"
   ]
  },
  {
   "cell_type": "code",
   "execution_count": 6,
   "id": "26500a94",
   "metadata": {},
   "outputs": [],
   "source": [
    "# Run PCA\n",
    "p = 500\n",
    "\n",
    "train_input_sd = StandardScaler().fit_transform(train_input)\n",
    "train_input_pca = PCA(n_components=p)\n",
    "train_input_pca.fit(train_input_sd)\n",
    "X = pd.DataFrame(train_input_pca.transform(train_input_sd))\n"
   ]
  },
  {
   "cell_type": "code",
   "execution_count": 13,
   "id": "0002520f",
   "metadata": {},
   "outputs": [],
   "source": [
    "y = train_target"
   ]
  },
  {
   "cell_type": "code",
   "execution_count": 7,
   "id": "c88c7b4d",
   "metadata": {},
   "outputs": [],
   "source": [
    "X.to_csv(data_dir/\"internal_train_train_cite_inputs_pca.csv\")"
   ]
  },
  {
   "cell_type": "code",
   "execution_count": 10,
   "id": "ad98552b",
   "metadata": {},
   "outputs": [
    {
     "data": {
      "text/plain": [
       "['train_input_pca.m']"
      ]
     },
     "execution_count": 10,
     "metadata": {},
     "output_type": "execute_result"
    }
   ],
   "source": [
    "# joblib.dump(train_input_pca, \"train_input_pca.m\")"
   ]
  },
  {
   "cell_type": "code",
   "execution_count": 11,
   "id": "15103a7b",
   "metadata": {},
   "outputs": [],
   "source": [
    "# train_input_pca2 = joblib.load(\"train_input_pca.m\")"
   ]
  },
  {
   "cell_type": "code",
   "execution_count": 20,
   "id": "6806d395",
   "metadata": {},
   "outputs": [
    {
     "name": "stdout",
     "output_type": "stream",
     "text": [
      "(42843, 500)\n",
      "(42843, 140)\n"
     ]
    }
   ],
   "source": [
    "print(X.shape)\n",
    "print(y.shape)"
   ]
  },
  {
   "cell_type": "code",
   "execution_count": 14,
   "id": "3def3f40",
   "metadata": {},
   "outputs": [
    {
     "name": "stdout",
     "output_type": "stream",
     "text": [
      "(34274, 500) (8569, 500) (34274, 140) (8569, 140)\n"
     ]
    }
   ],
   "source": [
    "# train test split\n",
    "# test_size = 0.2\n",
    "# X_train, X_test, y_train, y_test = train_test_split(X, y, test_size=test_size)\n",
    "# print(X_train.shape, X_test.shape, y_train.shape, y_test.shape)"
   ]
  },
  {
   "cell_type": "code",
   "execution_count": 15,
   "id": "0a9d1b67",
   "metadata": {},
   "outputs": [],
   "source": [
    "# fit the model\n",
    "a = 0.1\n",
    "# model = Lasso(alpha=a)\n",
    "# model = Ridge(alpha=a)\n",
    "# model = RFR(n_estimators=10, max_depth=5)\n",
    "# model = XGBR(max_depth=5, learning_rate=0.1, n_estimators=20)\n",
    "# model = LGBM(objective='regression',num_leaves=31,learning_rate=0.05,n_estimators=20))\n",
    "# model.fit(X_train, y_train)\n"
   ]
  },
  {
   "cell_type": "code",
   "execution_count": 18,
   "id": "69a51c25",
   "metadata": {},
   "outputs": [
    {
     "name": "stdout",
     "output_type": "stream",
     "text": [
      "MSE of the test set: 2.5299839839463654\n",
      "Pearson of the test set: 0.8889734341295122\n"
     ]
    }
   ],
   "source": [
    "# Lasso\n",
    "model = Lasso(alpha=a)\n",
    "model.fit(X_train, y_train)\n",
    "\n",
    "y_pred = model.predict(X_test)\n",
    "test_mse = mse(y_test, y_pred)\n",
    "test_pear = pearsonr(y_test.to_numpy().flatten(), y_pred.flatten())\n",
    "print(\"MSE of the test set:\", test_mse)\n",
    "print(\"Pearson of the test set:\", test_pear[0])"
   ]
  },
  {
   "cell_type": "code",
   "execution_count": 36,
   "id": "aad4fec2",
   "metadata": {},
   "outputs": [
    {
     "data": {
      "text/plain": [
       "GridSearchCV(cv=5, estimator=Lasso(),\n",
       "             param_grid=[{'alpha': array([0.02, 0.04, 0.06, 0.08])}],\n",
       "             scoring='neg_mean_squared_error')"
      ]
     },
     "execution_count": 36,
     "metadata": {},
     "output_type": "execute_result"
    }
   ],
   "source": [
    "param_grid = [{'alpha': np.arange(0.02,0.1,0.02)}]\n",
    " \n",
    "model = Lasso()\n",
    "grid_search = GridSearchCV(model, param_grid, cv=5, scoring='neg_mean_squared_error')\n",
    " \n",
    "grid_search.fit(X, y)"
   ]
  },
  {
   "cell_type": "code",
   "execution_count": 37,
   "id": "83fb14c2",
   "metadata": {},
   "outputs": [
    {
     "data": {
      "text/plain": [
       "{'mean_fit_time': array([15.21143022, 13.73326783, 12.8338109 , 12.49468341]),\n",
       " 'std_fit_time': array([1.37646153, 0.78187078, 0.57109873, 0.37686674]),\n",
       " 'mean_score_time': array([0.04541097, 0.04160881, 0.04013386, 0.03800263]),\n",
       " 'std_score_time': array([0.00467479, 0.00215438, 0.00240104, 0.00208989]),\n",
       " 'param_alpha': masked_array(data=[0.02, 0.04, 0.06, 0.08],\n",
       "              mask=[False, False, False, False],\n",
       "        fill_value='?',\n",
       "             dtype=object),\n",
       " 'params': [{'alpha': 0.02},\n",
       "  {'alpha': 0.04},\n",
       "  {'alpha': 0.06},\n",
       "  {'alpha': 0.08}],\n",
       " 'split0_test_score': array([-2.51451555, -2.50378059, -2.4976348 , -2.49288784]),\n",
       " 'split1_test_score': array([-2.90676943, -2.92706062, -2.94810158, -2.96781905]),\n",
       " 'split2_test_score': array([-3.38268348, -3.40973928, -3.43609102, -3.46042356]),\n",
       " 'split3_test_score': array([-2.20863744, -2.21415563, -2.22253823, -2.23171795]),\n",
       " 'split4_test_score': array([-2.37285687, -2.37754626, -2.38600653, -2.39454779]),\n",
       " 'mean_test_score': array([-2.67709255, -2.68645648, -2.69807443, -2.70947924]),\n",
       " 'std_test_score': array([0.42167543, 0.43194732, 0.44065387, 0.44833165]),\n",
       " 'rank_test_score': array([1, 2, 3, 4])}"
      ]
     },
     "execution_count": 37,
     "metadata": {},
     "output_type": "execute_result"
    }
   ],
   "source": [
    "grid_search.cv_results_"
   ]
  },
  {
   "cell_type": "code",
   "execution_count": 31,
   "id": "f61a389e",
   "metadata": {},
   "outputs": [
    {
     "data": {
      "text/plain": [
       "['lasso.m']"
      ]
     },
     "execution_count": 31,
     "metadata": {},
     "output_type": "execute_result"
    }
   ],
   "source": [
    "best_model = grid_search.best_estimator_\n",
    "joblib.dump(best_model, \"lasso.m\")"
   ]
  },
  {
   "cell_type": "code",
   "execution_count": 32,
   "id": "8cb576c5",
   "metadata": {},
   "outputs": [],
   "source": [
    "test_input = pd.read_csv(data_dir / \"internal_holdout_train_cite_inputs.csv\", index_col=0)\n",
    "test_target = pd.read_csv(data_dir / \"internal_holdout_train_cite_targets.csv\", index_col=0)"
   ]
  },
  {
   "cell_type": "code",
   "execution_count": 1,
   "id": "5496d169",
   "metadata": {},
   "outputs": [
    {
     "ename": "NameError",
     "evalue": "name 'train_input_pca' is not defined",
     "output_type": "error",
     "traceback": [
      "\u001b[1;31m---------------------------------------------------------------------------\u001b[0m",
      "\u001b[1;31mNameError\u001b[0m                                 Traceback (most recent call last)",
      "\u001b[1;32m~\\AppData\\Local\\Temp/ipykernel_34528/1448612452.py\u001b[0m in \u001b[0;36m<module>\u001b[1;34m\u001b[0m\n\u001b[1;32m----> 1\u001b[1;33m \u001b[0mX_test\u001b[0m \u001b[1;33m=\u001b[0m \u001b[0mtrain_input_pca\u001b[0m\u001b[1;33m.\u001b[0m\u001b[0mtransform\u001b[0m\u001b[1;33m(\u001b[0m\u001b[0mtest_input\u001b[0m\u001b[1;33m)\u001b[0m\u001b[1;33m\u001b[0m\u001b[1;33m\u001b[0m\u001b[0m\n\u001b[0m\u001b[0;32m      2\u001b[0m \u001b[0my_test\u001b[0m \u001b[1;33m=\u001b[0m \u001b[0mtest_target\u001b[0m\u001b[1;33m\u001b[0m\u001b[1;33m\u001b[0m\u001b[0m\n\u001b[0;32m      3\u001b[0m \u001b[0my_pred\u001b[0m \u001b[1;33m=\u001b[0m \u001b[0mbest_model\u001b[0m\u001b[1;33m.\u001b[0m\u001b[0mpredict\u001b[0m\u001b[1;33m(\u001b[0m\u001b[0mX_test\u001b[0m\u001b[1;33m)\u001b[0m\u001b[1;33m\u001b[0m\u001b[1;33m\u001b[0m\u001b[0m\n\u001b[0;32m      4\u001b[0m \u001b[1;33m\u001b[0m\u001b[0m\n\u001b[0;32m      5\u001b[0m \u001b[0mtrain_pear\u001b[0m \u001b[1;33m=\u001b[0m \u001b[0mpearsonr\u001b[0m\u001b[1;33m(\u001b[0m\u001b[0my\u001b[0m\u001b[1;33m.\u001b[0m\u001b[0mto_numpy\u001b[0m\u001b[1;33m(\u001b[0m\u001b[1;33m)\u001b[0m\u001b[1;33m.\u001b[0m\u001b[0mflatten\u001b[0m\u001b[1;33m(\u001b[0m\u001b[1;33m)\u001b[0m\u001b[1;33m,\u001b[0m \u001b[0mbest_model\u001b[0m\u001b[1;33m.\u001b[0m\u001b[0mpredict\u001b[0m\u001b[1;33m(\u001b[0m\u001b[0mX\u001b[0m\u001b[1;33m)\u001b[0m\u001b[1;33m)\u001b[0m\u001b[1;33m\u001b[0m\u001b[1;33m\u001b[0m\u001b[0m\n",
      "\u001b[1;31mNameError\u001b[0m: name 'train_input_pca' is not defined"
     ]
    }
   ],
   "source": [
    "X_test = train_input_pca.transform(test_input)\n",
    "y_test = test_target\n",
    "y_pred = best_model.predict(X_test)\n",
    "\n",
    "train_pear = pearsonr(y.to_numpy().flatten(), best_model.predict(X))\n",
    "test_pear = pearsonr(y_test.to_numpy().flatten(), y_pred.flatten())\n",
    "print(\"Pearson of the test set:\", test_pear[0])"
   ]
  },
  {
   "cell_type": "code",
   "execution_count": 150,
   "id": "314f80ff",
   "metadata": {},
   "outputs": [
    {
     "name": "stdout",
     "output_type": "stream",
     "text": [
      "MSE of the test set: 2.963454733984181\n",
      "Pearson of the test set: 0.8636707792964627\n"
     ]
    }
   ],
   "source": [
    "# Ridge\n",
    "model = Ridge(alpha=a)\n",
    "model.fit(X_train, y_train)\n",
    "\n",
    "y_pred = model.predict(X_test)\n",
    "test_mse = mse(y_test, y_pred)\n",
    "test_pear = pearsonr(y_test.to_numpy().flatten(), y_pred.flatten())\n",
    "print(\"MSE of the test set:\", test_mse)\n",
    "print(\"Pearson of the test set:\", test_pear[0])"
   ]
  },
  {
   "cell_type": "code",
   "execution_count": 151,
   "id": "690af3f5",
   "metadata": {},
   "outputs": [
    {
     "name": "stdout",
     "output_type": "stream",
     "text": [
      "MSE of the test set: 3.2406228916576416\n",
      "Pearson of the test set: 0.8496626252995269\n"
     ]
    }
   ],
   "source": [
    "# Random Forest Regressor\n",
    "model = RFR(n_estimators=10, max_depth=5)\n",
    "model.fit(X_train, y_train)\n",
    "\n",
    "y_pred = model.predict(X_test)\n",
    "test_mse = mse(y_test, y_pred)\n",
    "test_pear = pearsonr(y_test.to_numpy().flatten(), y_pred.flatten())\n",
    "print(\"MSE of the test set:\", test_mse)\n",
    "print(\"Pearson of the test set:\", test_pear[0])"
   ]
  },
  {
   "cell_type": "code",
   "execution_count": 186,
   "id": "b3b355ed",
   "metadata": {},
   "outputs": [
    {
     "name": "stdout",
     "output_type": "stream",
     "text": [
      "MSE of the test set: 4.487843535841501\n",
      "Pearson of the test set: 0.8537708949008104\n"
     ]
    }
   ],
   "source": [
    "# XGBoost Regressor\n",
    "model = XGBR(max_depth=3, learning_rate=0.1, n_estimators=10)\n",
    "y_preds = np.array([])\n",
    "for i in range(y.shape[1]):\n",
    "    model.fit(X_train, y_train.iloc[:,i])\n",
    "    y_pred = model.predict(X_test)\n",
    "    y_preds = np.concatenate((y_preds, y_pred), axis=0)\n",
    "\n",
    "test_mse = mse(y_test.to_numpy().flatten(\"F\"), y_preds)\n",
    "test_pear = pearsonr(y_test.to_numpy().flatten(\"F\"), y_preds)\n",
    "print(\"MSE of the test set:\", test_mse)\n",
    "print(\"Pearson of the test set:\", test_pear[0])"
   ]
  },
  {
   "cell_type": "code",
   "execution_count": 184,
   "id": "26772c07",
   "metadata": {},
   "outputs": [
    {
     "name": "stdout",
     "output_type": "stream",
     "text": [
      "MSE of the test set: 3.4983781792748796\n",
      "Pearson of the test set: 0.8375270304196588\n"
     ]
    }
   ],
   "source": [
    "# LightGBM\n",
    "model = LGBM(objective='regression',num_leaves=5,learning_rate=0.1,n_estimators=10)\n",
    "y_preds = np.array([])\n",
    "for i in range(y.shape[1]):\n",
    "    model.fit(X_train, y_train.iloc[:,i])\n",
    "    y_pred = model.predict(X_test)\n",
    "    y_preds = np.concatenate((y_preds, y_pred), axis=0)\n",
    "\n",
    "test_mse = mse(y_test.to_numpy().flatten(\"F\"), y_preds)\n",
    "test_pear = pearsonr(y_test.to_numpy().flatten(\"F\"), y_preds)\n",
    "print(\"MSE of the test set:\", test_mse)\n",
    "print(\"Pearson of the test set:\", test_pear[0])"
   ]
  }
 ],
 "metadata": {
  "kernelspec": {
   "display_name": "Python 3.9.7 ('base')",
   "language": "python",
   "name": "python3"
  },
  "language_info": {
   "codemirror_mode": {
    "name": "ipython",
    "version": 3
   },
   "file_extension": ".py",
   "mimetype": "text/x-python",
   "name": "python",
   "nbconvert_exporter": "python",
   "pygments_lexer": "ipython3",
   "version": "3.9.7"
  },
  "vscode": {
   "interpreter": {
    "hash": "a5f44439766e47113308a61c45e3ba0ce79cefad900abb614d22e5ec5db7fbe0"
   }
  }
 },
 "nbformat": 4,
 "nbformat_minor": 5
}
