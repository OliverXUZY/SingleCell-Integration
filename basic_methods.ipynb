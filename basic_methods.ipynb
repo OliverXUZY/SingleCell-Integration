{
 "cells": [
  {
   "cell_type": "code",
   "execution_count": 1,
   "id": "6b2081dc",
   "metadata": {},
   "outputs": [
    {
     "name": "stderr",
     "output_type": "stream",
     "text": [
      "c:\\Anaconda\\lib\\site-packages\\xgboost\\compat.py:36: FutureWarning: pandas.Int64Index is deprecated and will be removed from pandas in a future version. Use pandas.Index with the appropriate dtype instead.\n",
      "  from pandas import MultiIndex, Int64Index\n"
     ]
    }
   ],
   "source": [
    "import sklearn as sk\n",
    "import pandas as pd\n",
    "import numpy as np\n",
    "from sklearn.preprocessing import StandardScaler\n",
    "from sklearn.decomposition import PCA\n",
    "from sklearn.model_selection import train_test_split\n",
    "from sklearn.model_selection import GridSearchCV\n",
    "from sklearn import datasets\n",
    "from sklearn.linear_model import Ridge\n",
    "from sklearn.linear_model import Lasso\n",
    "from sklearn.metrics import mean_squared_error as mse\n",
    "from sklearn.ensemble import RandomForestRegressor as RFR\n",
    "from xgboost import XGBRegressor as XGBR\n",
    "from scipy.stats import pearsonr\n",
    "from lightgbm import LGBMRegressor as LGBM"
   ]
  },
  {
   "cell_type": "code",
   "execution_count": 80,
   "id": "0aeefbe0",
   "metadata": {},
   "outputs": [],
   "source": [
    "input = pd.read_csv(\"sampled_cite_input.csv\")\n",
    "target = pd.read_csv(\"sampled_cite_target.csv\").iloc[:,1:]"
   ]
  },
  {
   "cell_type": "code",
   "execution_count": 188,
   "id": "d0d190af",
   "metadata": {},
   "outputs": [
    {
     "name": "stdout",
     "output_type": "stream",
     "text": [
      "(14197, 4411)\n",
      "(14197, 140)\n"
     ]
    }
   ],
   "source": [
    "print(input.shape)\n",
    "print(target.shape)"
   ]
  },
  {
   "cell_type": "code",
   "execution_count": 22,
   "id": "26500a94",
   "metadata": {},
   "outputs": [],
   "source": [
    "# Run PCA\n",
    "p = 500\n",
    "\n",
    "input_sd = StandardScaler().fit_transform(input)\n",
    "input_pca = PCA(n_components=p)\n",
    "X = pd.DataFrame(input_pca.fit_transform(input_sd))\n",
    "print(X.shape)"
   ]
  },
  {
   "cell_type": "code",
   "execution_count": 189,
   "id": "992f18ab",
   "metadata": {},
   "outputs": [
    {
     "name": "stdout",
     "output_type": "stream",
     "text": [
      "(14197, 140)\n"
     ]
    }
   ],
   "source": [
    "y = target.iloc[:,:]\n",
    "print(y.shape)"
   ]
  },
  {
   "cell_type": "code",
   "execution_count": 123,
   "id": "3def3f40",
   "metadata": {},
   "outputs": [
    {
     "name": "stdout",
     "output_type": "stream",
     "text": [
      "(10647, 500) (3550, 500) (10647, 140) (3550, 140)\n"
     ]
    }
   ],
   "source": [
    "# train test split\n",
    "test_size = 0.25\n",
    "X_train, X_test, y_train, y_test = train_test_split(X, y, test_size=test_size)\n",
    "print(X_train.shape, X_test.shape, y_train.shape, y_test.shape)"
   ]
  },
  {
   "cell_type": "code",
   "execution_count": 187,
   "id": "0a9d1b67",
   "metadata": {},
   "outputs": [],
   "source": [
    "# fit the model\n",
    "a = 0.1\n",
    "# model = Lasso(alpha=a)\n",
    "# model = Ridge(alpha=a)\n",
    "# model = RFR(n_estimators=10, max_depth=5)\n",
    "# model = XGBR(max_depth=5, learning_rate=0.1, n_estimators=20)\n",
    "# model = LGBM(objective='regression',num_leaves=31,learning_rate=0.05,n_estimators=20))\n",
    "# model.fit(X_train, y_train)\n"
   ]
  },
  {
   "cell_type": "code",
   "execution_count": 149,
   "id": "69a51c25",
   "metadata": {},
   "outputs": [
    {
     "name": "stdout",
     "output_type": "stream",
     "text": [
      "MSE of the test set: 2.8803016181762024\n",
      "Pearson of the test set: 0.8676670120732592\n"
     ]
    }
   ],
   "source": [
    "# Lasso\n",
    "model = Lasso(alpha=a)\n",
    "model.fit(X_train, y_train)\n",
    "\n",
    "y_pred = model.predict(X_test)\n",
    "test_mse = mse(y_test, y_pred)\n",
    "test_pear = pearsonr(y_test.to_numpy().flatten(), y_pred.flatten())\n",
    "print(\"MSE of the test set:\", test_mse)\n",
    "print(\"Pearson of the test set:\", test_pear[0])"
   ]
  },
  {
   "cell_type": "code",
   "execution_count": 150,
   "id": "314f80ff",
   "metadata": {},
   "outputs": [
    {
     "name": "stdout",
     "output_type": "stream",
     "text": [
      "MSE of the test set: 2.963454733984181\n",
      "Pearson of the test set: 0.8636707792964627\n"
     ]
    }
   ],
   "source": [
    "# Ridge\n",
    "model = Ridge(alpha=a)\n",
    "model.fit(X_train, y_train)\n",
    "\n",
    "y_pred = model.predict(X_test)\n",
    "test_mse = mse(y_test, y_pred)\n",
    "test_pear = pearsonr(y_test.to_numpy().flatten(), y_pred.flatten())\n",
    "print(\"MSE of the test set:\", test_mse)\n",
    "print(\"Pearson of the test set:\", test_pear[0])"
   ]
  },
  {
   "cell_type": "code",
   "execution_count": 151,
   "id": "690af3f5",
   "metadata": {},
   "outputs": [
    {
     "name": "stdout",
     "output_type": "stream",
     "text": [
      "MSE of the test set: 3.2406228916576416\n",
      "Pearson of the test set: 0.8496626252995269\n"
     ]
    }
   ],
   "source": [
    "# Random Forest Regressor\n",
    "model = RFR(n_estimators=10, max_depth=5)\n",
    "model.fit(X_train, y_train)\n",
    "\n",
    "y_pred = model.predict(X_test)\n",
    "test_mse = mse(y_test, y_pred)\n",
    "test_pear = pearsonr(y_test.to_numpy().flatten(), y_pred.flatten())\n",
    "print(\"MSE of the test set:\", test_mse)\n",
    "print(\"Pearson of the test set:\", test_pear[0])"
   ]
  },
  {
   "cell_type": "code",
   "execution_count": 186,
   "id": "b3b355ed",
   "metadata": {},
   "outputs": [
    {
     "name": "stdout",
     "output_type": "stream",
     "text": [
      "MSE of the test set: 4.487843535841501\n",
      "Pearson of the test set: 0.8537708949008104\n"
     ]
    }
   ],
   "source": [
    "# XGBoost Regressor\n",
    "model = XGBR(max_depth=3, learning_rate=0.1, n_estimators=10)\n",
    "y_preds = np.array([])\n",
    "for i in range(y.shape[1]):\n",
    "    model.fit(X_train, y_train.iloc[:,i])\n",
    "    y_pred = model.predict(X_test)\n",
    "    y_preds = np.concatenate((y_preds, y_pred), axis=0)\n",
    "\n",
    "test_mse = mse(y_test.to_numpy().flatten(\"F\"), y_preds)\n",
    "test_pear = pearsonr(y_test.to_numpy().flatten(\"F\"), y_preds)\n",
    "print(\"MSE of the test set:\", test_mse)\n",
    "print(\"Pearson of the test set:\", test_pear[0])"
   ]
  },
  {
   "cell_type": "code",
   "execution_count": 184,
   "id": "26772c07",
   "metadata": {},
   "outputs": [
    {
     "name": "stdout",
     "output_type": "stream",
     "text": [
      "MSE of the test set: 3.4983781792748796\n",
      "Pearson of the test set: 0.8375270304196588\n"
     ]
    }
   ],
   "source": [
    "# LightGBM\n",
    "model = LGBM(objective='regression',num_leaves=5,learning_rate=0.1,n_estimators=10)\n",
    "y_preds = np.array([])\n",
    "for i in range(y.shape[1]):\n",
    "    model.fit(X_train, y_train.iloc[:,i])\n",
    "    y_pred = model.predict(X_test)\n",
    "    y_preds = np.concatenate((y_preds, y_pred), axis=0)\n",
    "\n",
    "test_mse = mse(y_test.to_numpy().flatten(\"F\"), y_preds)\n",
    "test_pear = pearsonr(y_test.to_numpy().flatten(\"F\"), y_preds)\n",
    "print(\"MSE of the test set:\", test_mse)\n",
    "print(\"Pearson of the test set:\", test_pear[0])"
   ]
  }
 ],
 "metadata": {
  "kernelspec": {
   "display_name": "Python 3.9.12 ('base')",
   "language": "python",
   "name": "python3"
  },
  "language_info": {
   "codemirror_mode": {
    "name": "ipython",
    "version": 3
   },
   "file_extension": ".py",
   "mimetype": "text/x-python",
   "name": "python",
   "nbconvert_exporter": "python",
   "pygments_lexer": "ipython3",
   "version": "3.9.13"
  },
  "vscode": {
   "interpreter": {
    "hash": "6f5583cf1d9466b5c27e75c89cc6b383bed5736d6b16c51c8074d8690011a952"
   }
  }
 },
 "nbformat": 4,
 "nbformat_minor": 5
}
