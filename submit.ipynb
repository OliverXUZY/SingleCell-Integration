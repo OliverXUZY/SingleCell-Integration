{
 "cells": [
  {
   "cell_type": "code",
   "execution_count": 49,
   "metadata": {},
   "outputs": [],
   "source": [
    "import os\n",
    "\n",
    "import sys\n",
    "os.chdir(\"/Users/zyxu/Documents/py/kris\")\n",
    "import numpy as np\n",
    "import pandas as pd\n",
    "import h5py\n",
    "import hdf5plugin\n",
    "import func.prepro as pp\n",
    "from tqdm import tqdm\n",
    "import gc\n",
    "\n",
    "import seaborn as sns\n",
    "import matplotlib.pyplot as plt\n",
    "\n",
    "custom_colors = [\"#a8e6cf\",\"#dcedc1\",\"#ffd3b6\",\"#ffaaa5\",\"#ff8b94\"]\n",
    "palette = sns.set_palette(sns.color_palette(custom_colors))"
   ]
  },
  {
   "cell_type": "code",
   "execution_count": 3,
   "metadata": {},
   "outputs": [],
   "source": [
    "DATA_DIR = \"open-problems-multimodal\"\n",
    "SUBMIT_DIR = \"submit\"\n",
    "FP_CELL_METADATA = os.path.join(DATA_DIR,\"metadata.csv\")\n",
    "\n",
    "FP_CITE_TRAIN_INPUTS = os.path.join(DATA_DIR,\"train_cite_inputs.h5\")\n",
    "FP_CITE_TRAIN_TARGETS = os.path.join(DATA_DIR,\"train_cite_targets.h5\")\n",
    "FP_CITE_TEST_INPUTS = os.path.join(DATA_DIR,\"test_cite_inputs.h5\")\n",
    "\n",
    "FP_MULTIOME_TRAIN_INPUTS = os.path.join(DATA_DIR,\"train_multi_inputs.h5\")\n",
    "FP_MULTIOME_TRAIN_TARGETS = os.path.join(DATA_DIR,\"train_multi_targets.h5\")\n",
    "FP_MULTIOME_TEST_INPUTS = os.path.join(DATA_DIR,\"test_multi_inputs.h5\")\n",
    "\n",
    "FP_SUBMISSION = os.path.join(DATA_DIR,\"sample_submission.csv\")\n",
    "FP_EVALUATION_IDS = os.path.join(DATA_DIR,\"evaluation_ids.csv\")"
   ]
  },
  {
   "cell_type": "code",
   "execution_count": 3,
   "metadata": {},
   "outputs": [
    {
     "name": "stdout",
     "output_type": "stream",
     "text": [
      "(65744180, 2)\n"
     ]
    },
    {
     "data": {
      "text/html": [
       "<div>\n",
       "<style scoped>\n",
       "    .dataframe tbody tr th:only-of-type {\n",
       "        vertical-align: middle;\n",
       "    }\n",
       "\n",
       "    .dataframe tbody tr th {\n",
       "        vertical-align: top;\n",
       "    }\n",
       "\n",
       "    .dataframe thead th {\n",
       "        text-align: right;\n",
       "    }\n",
       "</style>\n",
       "<table border=\"1\" class=\"dataframe\">\n",
       "  <thead>\n",
       "    <tr style=\"text-align: right;\">\n",
       "      <th></th>\n",
       "      <th>row_id</th>\n",
       "      <th>target</th>\n",
       "    </tr>\n",
       "  </thead>\n",
       "  <tbody>\n",
       "    <tr>\n",
       "      <th>0</th>\n",
       "      <td>0</td>\n",
       "      <td>0.0</td>\n",
       "    </tr>\n",
       "    <tr>\n",
       "      <th>1</th>\n",
       "      <td>1</td>\n",
       "      <td>0.0</td>\n",
       "    </tr>\n",
       "    <tr>\n",
       "      <th>2</th>\n",
       "      <td>2</td>\n",
       "      <td>0.0</td>\n",
       "    </tr>\n",
       "    <tr>\n",
       "      <th>3</th>\n",
       "      <td>3</td>\n",
       "      <td>0.0</td>\n",
       "    </tr>\n",
       "    <tr>\n",
       "      <th>4</th>\n",
       "      <td>4</td>\n",
       "      <td>0.0</td>\n",
       "    </tr>\n",
       "  </tbody>\n",
       "</table>\n",
       "</div>"
      ],
      "text/plain": [
       "   row_id  target\n",
       "0       0     0.0\n",
       "1       1     0.0\n",
       "2       2     0.0\n",
       "3       3     0.0\n",
       "4       4     0.0"
      ]
     },
     "execution_count": 3,
     "metadata": {},
     "output_type": "execute_result"
    }
   ],
   "source": [
    "submission = pd.read_csv(\"sample_submission.csv\")\n",
    "print(submission.shape)\n",
    "submission.head()"
   ]
  },
  {
   "cell_type": "markdown",
   "metadata": {},
   "source": [
    "### evaluation"
   ]
  },
  {
   "cell_type": "code",
   "execution_count": null,
   "metadata": {},
   "outputs": [
    {
     "name": "stdout",
     "output_type": "stream",
     "text": [
      "(65744180, 3)\n"
     ]
    },
    {
     "data": {
      "text/html": [
       "<div>\n",
       "<style scoped>\n",
       "    .dataframe tbody tr th:only-of-type {\n",
       "        vertical-align: middle;\n",
       "    }\n",
       "\n",
       "    .dataframe tbody tr th {\n",
       "        vertical-align: top;\n",
       "    }\n",
       "\n",
       "    .dataframe thead th {\n",
       "        text-align: right;\n",
       "    }\n",
       "</style>\n",
       "<table border=\"1\" class=\"dataframe\">\n",
       "  <thead>\n",
       "    <tr style=\"text-align: right;\">\n",
       "      <th></th>\n",
       "      <th>row_id</th>\n",
       "      <th>cell_id</th>\n",
       "      <th>gene_id</th>\n",
       "    </tr>\n",
       "  </thead>\n",
       "  <tbody>\n",
       "    <tr>\n",
       "      <th>0</th>\n",
       "      <td>0</td>\n",
       "      <td>c2150f55becb</td>\n",
       "      <td>CD86</td>\n",
       "    </tr>\n",
       "    <tr>\n",
       "      <th>1</th>\n",
       "      <td>1</td>\n",
       "      <td>c2150f55becb</td>\n",
       "      <td>CD274</td>\n",
       "    </tr>\n",
       "    <tr>\n",
       "      <th>2</th>\n",
       "      <td>2</td>\n",
       "      <td>c2150f55becb</td>\n",
       "      <td>CD270</td>\n",
       "    </tr>\n",
       "    <tr>\n",
       "      <th>3</th>\n",
       "      <td>3</td>\n",
       "      <td>c2150f55becb</td>\n",
       "      <td>CD155</td>\n",
       "    </tr>\n",
       "    <tr>\n",
       "      <th>4</th>\n",
       "      <td>4</td>\n",
       "      <td>c2150f55becb</td>\n",
       "      <td>CD112</td>\n",
       "    </tr>\n",
       "  </tbody>\n",
       "</table>\n",
       "</div>"
      ],
      "text/plain": [
       "   row_id       cell_id gene_id\n",
       "0       0  c2150f55becb    CD86\n",
       "1       1  c2150f55becb   CD274\n",
       "2       2  c2150f55becb   CD270\n",
       "3       3  c2150f55becb   CD155\n",
       "4       4  c2150f55becb   CD112"
      ]
     },
     "metadata": {},
     "output_type": "display_data"
    }
   ],
   "source": [
    "evaluation = pd.read_csv(f\"{FP_EVALUATION_IDS}\")\n",
    "print(evaluation.shape)\n",
    "evaluation.head()"
   ]
  },
  {
   "cell_type": "code",
   "execution_count": null,
   "metadata": {},
   "outputs": [
    {
     "data": {
      "text/html": [
       "<div>\n",
       "<style scoped>\n",
       "    .dataframe tbody tr th:only-of-type {\n",
       "        vertical-align: middle;\n",
       "    }\n",
       "\n",
       "    .dataframe tbody tr th {\n",
       "        vertical-align: top;\n",
       "    }\n",
       "\n",
       "    .dataframe thead th {\n",
       "        text-align: right;\n",
       "    }\n",
       "</style>\n",
       "<table border=\"1\" class=\"dataframe\">\n",
       "  <thead>\n",
       "    <tr style=\"text-align: right;\">\n",
       "      <th></th>\n",
       "      <th>row_id</th>\n",
       "      <th>cell_id</th>\n",
       "      <th>gene_id</th>\n",
       "    </tr>\n",
       "  </thead>\n",
       "  <tbody>\n",
       "    <tr>\n",
       "      <th>6812817</th>\n",
       "      <td>6812817</td>\n",
       "      <td>ad5a949989b2</td>\n",
       "      <td>CD101</td>\n",
       "    </tr>\n",
       "    <tr>\n",
       "      <th>6812818</th>\n",
       "      <td>6812818</td>\n",
       "      <td>ad5a949989b2</td>\n",
       "      <td>CD88</td>\n",
       "    </tr>\n",
       "    <tr>\n",
       "      <th>6812819</th>\n",
       "      <td>6812819</td>\n",
       "      <td>ad5a949989b2</td>\n",
       "      <td>CD224</td>\n",
       "    </tr>\n",
       "    <tr>\n",
       "      <th>6812820</th>\n",
       "      <td>6812820</td>\n",
       "      <td>8d287040728a</td>\n",
       "      <td>ENSG00000204091</td>\n",
       "    </tr>\n",
       "    <tr>\n",
       "      <th>6812821</th>\n",
       "      <td>6812821</td>\n",
       "      <td>8d287040728a</td>\n",
       "      <td>ENSG00000198938</td>\n",
       "    </tr>\n",
       "    <tr>\n",
       "      <th>6812822</th>\n",
       "      <td>6812822</td>\n",
       "      <td>8d287040728a</td>\n",
       "      <td>ENSG00000168495</td>\n",
       "    </tr>\n",
       "  </tbody>\n",
       "</table>\n",
       "</div>"
      ],
      "text/plain": [
       "          row_id       cell_id          gene_id\n",
       "6812817  6812817  ad5a949989b2            CD101\n",
       "6812818  6812818  ad5a949989b2             CD88\n",
       "6812819  6812819  ad5a949989b2            CD224\n",
       "6812820  6812820  8d287040728a  ENSG00000204091\n",
       "6812821  6812821  8d287040728a  ENSG00000198938\n",
       "6812822  6812822  8d287040728a  ENSG00000168495"
      ]
     },
     "metadata": {},
     "output_type": "display_data"
    }
   ],
   "source": [
    "evaluation.iloc[48663*140-3: 48663*140+3,: ]"
   ]
  },
  {
   "cell_type": "code",
   "execution_count": null,
   "metadata": {},
   "outputs": [],
   "source": []
  },
  {
   "cell_type": "markdown",
   "metadata": {},
   "source": [
    "### protein"
   ]
  },
  {
   "cell_type": "code",
   "execution_count": 15,
   "metadata": {},
   "outputs": [],
   "source": [
    "# train_cite_inputs = pp.readH5pyFile(FP_CITE_TRAIN_INPUTS)\n",
    "train_cite_targets = pp.readH5pyFile(FP_CITE_TRAIN_TARGETS)\n",
    "test_cite_inputs = pp.readH5pyFile(FP_CITE_TEST_INPUTS)"
   ]
  },
  {
   "cell_type": "code",
   "execution_count": 16,
   "metadata": {},
   "outputs": [
    {
     "data": {
      "text/plain": [
       "dict_keys(['axis0', 'axis1', 'block0_items', 'block0_values'])"
      ]
     },
     "execution_count": 16,
     "metadata": {},
     "output_type": "execute_result"
    }
   ],
   "source": [
    "train_cite_targets.keys()"
   ]
  },
  {
   "cell_type": "code",
   "execution_count": 27,
   "metadata": {},
   "outputs": [
    {
     "name": "stdout",
     "output_type": "stream",
     "text": [
      "num of proteins:  (140,)\n",
      "number of cells:  (48663,)\n"
     ]
    }
   ],
   "source": [
    "proteins = train_cite_targets[\"axis0\"].astype(str)\n",
    "cellId = test_cite_inputs[\"axis1\"].astype(str)\n",
    "print(\"num of proteins: \",train_cite_targets[\"axis0\"].astype(str).shape)\n",
    "print(\"number of cells: \",test_cite_inputs[\"axis1\"].astype(str).shape)"
   ]
  },
  {
   "cell_type": "code",
   "execution_count": 24,
   "metadata": {},
   "outputs": [],
   "source": [
    "eva_protein = evaluation.iloc[:48663*140]"
   ]
  },
  {
   "cell_type": "code",
   "execution_count": 25,
   "metadata": {},
   "outputs": [
    {
     "data": {
      "text/plain": [
       "row_id     6812820\n",
       "cell_id      48663\n",
       "gene_id        140\n",
       "dtype: int64"
      ]
     },
     "execution_count": 25,
     "metadata": {},
     "output_type": "execute_result"
    }
   ],
   "source": [
    "eva_protein.nunique()"
   ]
  },
  {
   "cell_type": "code",
   "execution_count": 37,
   "metadata": {},
   "outputs": [
    {
     "name": "stderr",
     "output_type": "stream",
     "text": [
      "100%|██████████| 10/10 [00:09<00:00,  1.09it/s]\n",
      "100%|██████████| 10/10 [00:09<00:00,  1.08it/s]\n"
     ]
    }
   ],
   "source": [
    "# check whether eva_protein is balanced matrix\n",
    "for protein in tqdm(proteins[:10]):\n",
    "    num_of_cells = sum(eva_protein.gene_id == protein)\n",
    "    if num_of_cells != 48663:\n",
    "        print(\"Wrong!\")\n",
    "for cell in tqdm(cellId[:10]):\n",
    "    num_of_proteins = sum(eva_protein.cell_id == cell)\n",
    "    if num_of_proteins != 140:\n",
    "        print(\"Wrong\")"
   ]
  },
  {
   "cell_type": "code",
   "execution_count": null,
   "metadata": {},
   "outputs": [],
   "source": [
    "def prot_submission(preMat, eva_protein):\n",
    "    numCells = preMat.shape[0]\n",
    "    assert numCells == 48663\n",
    "    numProt = preMat.shape[1]\n",
    "    assert numProt == 140\n",
    "    \n",
    "    sub = pd.DataFrame({\"row_id\": range(48663 * 140), \"target\": preMat.reshape(-1)})\n",
    "    return sub"
   ]
  },
  {
   "cell_type": "markdown",
   "metadata": {},
   "source": [
    "test"
   ]
  },
  {
   "cell_type": "code",
   "execution_count": 14,
   "metadata": {},
   "outputs": [],
   "source": [
    "mat = train_cite_targets['block0_values'][:4,:5]"
   ]
  },
  {
   "cell_type": "code",
   "execution_count": 18,
   "metadata": {},
   "outputs": [
    {
     "name": "stdout",
     "output_type": "stream",
     "text": [
      "[[ 1.1678035   0.62253     0.10695851  0.32498938  3.331674  ]\n",
      " [ 0.81897014  0.50600946  1.078682    6.848758    3.5248847 ]\n",
      " [-0.3567033  -0.42226133 -0.82449275  1.1374946   0.5189245 ]\n",
      " [-1.2015074   0.14911485  2.0224676   6.0215945   7.2586703 ]]\n"
     ]
    },
    {
     "data": {
      "text/plain": [
       "array([ 1.1678035 ,  0.62253   ,  0.10695851,  0.32498938,  3.331674  ,\n",
       "        0.81897014,  0.50600946,  1.078682  ,  6.848758  ,  3.5248847 ,\n",
       "       -0.3567033 , -0.42226133, -0.82449275,  1.1374946 ,  0.5189245 ,\n",
       "       -1.2015074 ,  0.14911485,  2.0224676 ,  6.0215945 ,  7.2586703 ],\n",
       "      dtype=float32)"
      ]
     },
     "execution_count": 18,
     "metadata": {},
     "output_type": "execute_result"
    }
   ],
   "source": [
    "print(mat)\n",
    "mat.reshape(-1)"
   ]
  },
  {
   "cell_type": "code",
   "execution_count": 23,
   "metadata": {},
   "outputs": [
    {
     "data": {
      "text/plain": [
       "array(['CD86', 'CD274', 'CD270', 'CD155', 'CD112'], dtype='<U11')"
      ]
     },
     "execution_count": 23,
     "metadata": {},
     "output_type": "execute_result"
    }
   ],
   "source": [
    "protId = train_cite_targets['axis0'].astype(str)[:5]\n",
    "protId"
   ]
  },
  {
   "cell_type": "code",
   "execution_count": 25,
   "metadata": {},
   "outputs": [
    {
     "data": {
      "text/plain": [
       "array(['45006fe3e4c8', 'd02759a80ba2', 'c016c6b0efa5', 'ba7f733a4f75'],\n",
       "      dtype='<U12')"
      ]
     },
     "execution_count": 25,
     "metadata": {},
     "output_type": "execute_result"
    }
   ],
   "source": [
    "cellId = train_cite_targets['axis1'].astype(str)[:4]\n",
    "cellId"
   ]
  },
  {
   "cell_type": "code",
   "execution_count": 31,
   "metadata": {},
   "outputs": [],
   "source": [
    "eva = pd.DataFrame({\"row_id\": range(20), \"target\": mat.reshape(-1)})"
   ]
  },
  {
   "cell_type": "code",
   "execution_count": 32,
   "metadata": {},
   "outputs": [
    {
     "data": {
      "text/html": [
       "<div>\n",
       "<style scoped>\n",
       "    .dataframe tbody tr th:only-of-type {\n",
       "        vertical-align: middle;\n",
       "    }\n",
       "\n",
       "    .dataframe tbody tr th {\n",
       "        vertical-align: top;\n",
       "    }\n",
       "\n",
       "    .dataframe thead th {\n",
       "        text-align: right;\n",
       "    }\n",
       "</style>\n",
       "<table border=\"1\" class=\"dataframe\">\n",
       "  <thead>\n",
       "    <tr style=\"text-align: right;\">\n",
       "      <th></th>\n",
       "      <th>row_id</th>\n",
       "      <th>target</th>\n",
       "    </tr>\n",
       "  </thead>\n",
       "  <tbody>\n",
       "    <tr>\n",
       "      <th>0</th>\n",
       "      <td>0</td>\n",
       "      <td>1.167804</td>\n",
       "    </tr>\n",
       "    <tr>\n",
       "      <th>1</th>\n",
       "      <td>1</td>\n",
       "      <td>0.622530</td>\n",
       "    </tr>\n",
       "    <tr>\n",
       "      <th>2</th>\n",
       "      <td>2</td>\n",
       "      <td>0.106959</td>\n",
       "    </tr>\n",
       "    <tr>\n",
       "      <th>3</th>\n",
       "      <td>3</td>\n",
       "      <td>0.324989</td>\n",
       "    </tr>\n",
       "    <tr>\n",
       "      <th>4</th>\n",
       "      <td>4</td>\n",
       "      <td>3.331674</td>\n",
       "    </tr>\n",
       "    <tr>\n",
       "      <th>5</th>\n",
       "      <td>5</td>\n",
       "      <td>0.818970</td>\n",
       "    </tr>\n",
       "    <tr>\n",
       "      <th>6</th>\n",
       "      <td>6</td>\n",
       "      <td>0.506009</td>\n",
       "    </tr>\n",
       "    <tr>\n",
       "      <th>7</th>\n",
       "      <td>7</td>\n",
       "      <td>1.078682</td>\n",
       "    </tr>\n",
       "    <tr>\n",
       "      <th>8</th>\n",
       "      <td>8</td>\n",
       "      <td>6.848758</td>\n",
       "    </tr>\n",
       "    <tr>\n",
       "      <th>9</th>\n",
       "      <td>9</td>\n",
       "      <td>3.524885</td>\n",
       "    </tr>\n",
       "    <tr>\n",
       "      <th>10</th>\n",
       "      <td>10</td>\n",
       "      <td>-0.356703</td>\n",
       "    </tr>\n",
       "    <tr>\n",
       "      <th>11</th>\n",
       "      <td>11</td>\n",
       "      <td>-0.422261</td>\n",
       "    </tr>\n",
       "    <tr>\n",
       "      <th>12</th>\n",
       "      <td>12</td>\n",
       "      <td>-0.824493</td>\n",
       "    </tr>\n",
       "    <tr>\n",
       "      <th>13</th>\n",
       "      <td>13</td>\n",
       "      <td>1.137495</td>\n",
       "    </tr>\n",
       "    <tr>\n",
       "      <th>14</th>\n",
       "      <td>14</td>\n",
       "      <td>0.518924</td>\n",
       "    </tr>\n",
       "    <tr>\n",
       "      <th>15</th>\n",
       "      <td>15</td>\n",
       "      <td>-1.201507</td>\n",
       "    </tr>\n",
       "    <tr>\n",
       "      <th>16</th>\n",
       "      <td>16</td>\n",
       "      <td>0.149115</td>\n",
       "    </tr>\n",
       "    <tr>\n",
       "      <th>17</th>\n",
       "      <td>17</td>\n",
       "      <td>2.022468</td>\n",
       "    </tr>\n",
       "    <tr>\n",
       "      <th>18</th>\n",
       "      <td>18</td>\n",
       "      <td>6.021595</td>\n",
       "    </tr>\n",
       "    <tr>\n",
       "      <th>19</th>\n",
       "      <td>19</td>\n",
       "      <td>7.258670</td>\n",
       "    </tr>\n",
       "  </tbody>\n",
       "</table>\n",
       "</div>"
      ],
      "text/plain": [
       "    row_id    target\n",
       "0        0  1.167804\n",
       "1        1  0.622530\n",
       "2        2  0.106959\n",
       "3        3  0.324989\n",
       "4        4  3.331674\n",
       "5        5  0.818970\n",
       "6        6  0.506009\n",
       "7        7  1.078682\n",
       "8        8  6.848758\n",
       "9        9  3.524885\n",
       "10      10 -0.356703\n",
       "11      11 -0.422261\n",
       "12      12 -0.824493\n",
       "13      13  1.137495\n",
       "14      14  0.518924\n",
       "15      15 -1.201507\n",
       "16      16  0.149115\n",
       "17      17  2.022468\n",
       "18      18  6.021595\n",
       "19      19  7.258670"
      ]
     },
     "execution_count": 32,
     "metadata": {},
     "output_type": "execute_result"
    }
   ],
   "source": [
    "eva"
   ]
  },
  {
   "cell_type": "code",
   "execution_count": 33,
   "metadata": {},
   "outputs": [],
   "source": []
  },
  {
   "cell_type": "code",
   "execution_count": null,
   "metadata": {},
   "outputs": [],
   "source": []
  },
  {
   "cell_type": "code",
   "execution_count": null,
   "metadata": {},
   "outputs": [],
   "source": []
  },
  {
   "cell_type": "code",
   "execution_count": null,
   "metadata": {},
   "outputs": [],
   "source": []
  },
  {
   "cell_type": "markdown",
   "metadata": {},
   "source": [
    "### RNA"
   ]
  },
  {
   "cell_type": "code",
   "execution_count": 42,
   "metadata": {},
   "outputs": [],
   "source": [
    "eva_RNA = evaluation.iloc[48663*140:]"
   ]
  },
  {
   "cell_type": "code",
   "execution_count": 43,
   "metadata": {},
   "outputs": [
    {
     "data": {
      "text/html": [
       "<div>\n",
       "<style scoped>\n",
       "    .dataframe tbody tr th:only-of-type {\n",
       "        vertical-align: middle;\n",
       "    }\n",
       "\n",
       "    .dataframe tbody tr th {\n",
       "        vertical-align: top;\n",
       "    }\n",
       "\n",
       "    .dataframe thead th {\n",
       "        text-align: right;\n",
       "    }\n",
       "</style>\n",
       "<table border=\"1\" class=\"dataframe\">\n",
       "  <thead>\n",
       "    <tr style=\"text-align: right;\">\n",
       "      <th></th>\n",
       "      <th>row_id</th>\n",
       "      <th>cell_id</th>\n",
       "      <th>gene_id</th>\n",
       "    </tr>\n",
       "  </thead>\n",
       "  <tbody>\n",
       "    <tr>\n",
       "      <th>6812820</th>\n",
       "      <td>6812820</td>\n",
       "      <td>8d287040728a</td>\n",
       "      <td>ENSG00000204091</td>\n",
       "    </tr>\n",
       "    <tr>\n",
       "      <th>6812821</th>\n",
       "      <td>6812821</td>\n",
       "      <td>8d287040728a</td>\n",
       "      <td>ENSG00000198938</td>\n",
       "    </tr>\n",
       "    <tr>\n",
       "      <th>6812822</th>\n",
       "      <td>6812822</td>\n",
       "      <td>8d287040728a</td>\n",
       "      <td>ENSG00000168495</td>\n",
       "    </tr>\n",
       "    <tr>\n",
       "      <th>6812823</th>\n",
       "      <td>6812823</td>\n",
       "      <td>8d287040728a</td>\n",
       "      <td>ENSG00000165527</td>\n",
       "    </tr>\n",
       "    <tr>\n",
       "      <th>6812824</th>\n",
       "      <td>6812824</td>\n",
       "      <td>8d287040728a</td>\n",
       "      <td>ENSG00000167414</td>\n",
       "    </tr>\n",
       "  </tbody>\n",
       "</table>\n",
       "</div>"
      ],
      "text/plain": [
       "          row_id       cell_id          gene_id\n",
       "6812820  6812820  8d287040728a  ENSG00000204091\n",
       "6812821  6812821  8d287040728a  ENSG00000198938\n",
       "6812822  6812822  8d287040728a  ENSG00000168495\n",
       "6812823  6812823  8d287040728a  ENSG00000165527\n",
       "6812824  6812824  8d287040728a  ENSG00000167414"
      ]
     },
     "execution_count": 43,
     "metadata": {},
     "output_type": "execute_result"
    }
   ],
   "source": [
    "eva_RNA.head()"
   ]
  },
  {
   "cell_type": "code",
   "execution_count": 44,
   "metadata": {},
   "outputs": [],
   "source": [
    "# train_multi_inputs = pp.readH5pyFile(FP_MULTIOME_TRAIN_INPUTS)\n",
    "train_multi_targets = pp.readH5pyFile(FP_MULTIOME_TRAIN_TARGETS)\n",
    "test_multi_inputs = pp.readH5pyFile(FP_MULTIOME_TEST_INPUTS)"
   ]
  },
  {
   "cell_type": "code",
   "execution_count": 47,
   "metadata": {},
   "outputs": [
    {
     "name": "stdout",
     "output_type": "stream",
     "text": [
      "num of RNAs:  (23418,)\n",
      "number of cells:  (55935,)\n"
     ]
    }
   ],
   "source": [
    "RNAs = train_multi_targets[\"axis0\"].astype(str)\n",
    "cellId_RNA = test_multi_inputs[\"axis1\"].astype(str)\n",
    "print(\"num of RNAs: \",RNAs.shape)\n",
    "print(\"number of cells: \",cellId_RNA.shape)"
   ]
  },
  {
   "cell_type": "code",
   "execution_count": 46,
   "metadata": {},
   "outputs": [
    {
     "data": {
      "text/plain": [
       "row_id     58931360\n",
       "cell_id       16780\n",
       "gene_id       23418\n",
       "dtype: int64"
      ]
     },
     "execution_count": 46,
     "metadata": {},
     "output_type": "execute_result"
    }
   ],
   "source": [
    "eva_RNA.nunique()"
   ]
  },
  {
   "cell_type": "code",
   "execution_count": 79,
   "metadata": {},
   "outputs": [],
   "source": [
    "RNAs_in_eva = eva_RNA.gene_id.unique()"
   ]
  },
  {
   "cell_type": "code",
   "execution_count": 55,
   "metadata": {},
   "outputs": [
    {
     "name": "stderr",
     "output_type": "stream",
     "text": [
      " 33%|███▎      | 1/3 [00:08<00:16,  8.01s/it]"
     ]
    },
    {
     "name": "stdout",
     "output_type": "stream",
     "text": [
      "ENSG00000121410 has 2506 of cells.\n"
     ]
    },
    {
     "name": "stderr",
     "output_type": "stream",
     "text": [
      "100%|██████████| 3/3 [00:23<00:00,  7.68s/it]"
     ]
    },
    {
     "name": "stdout",
     "output_type": "stream",
     "text": [
      "ENSG00000268895 has 2465 of cells.\n",
      "ENSG00000175899 has 2500 of cells.\n"
     ]
    },
    {
     "name": "stderr",
     "output_type": "stream",
     "text": [
      "\n"
     ]
    }
   ],
   "source": [
    "# check whether eva_protein is balanced matrix\n",
    "for RNA in tqdm(RNAs[:3]):\n",
    "    num_of_cells = sum(eva_RNA.gene_id == RNA)\n",
    "    print(f\"{RNA} has {num_of_cells} of cells.\")\n"
   ]
  },
  {
   "cell_type": "code",
   "execution_count": 69,
   "metadata": {},
   "outputs": [],
   "source": [
    "cells_in_eva = eva_RNA.cell_id.unique()"
   ]
  },
  {
   "cell_type": "code",
   "execution_count": 70,
   "metadata": {},
   "outputs": [
    {
     "name": "stderr",
     "output_type": "stream",
     "text": [
      " 33%|███▎      | 1/3 [00:07<00:14,  7.05s/it]"
     ]
    },
    {
     "name": "stdout",
     "output_type": "stream",
     "text": [
      "8d287040728a 3512!\n"
     ]
    },
    {
     "name": "stderr",
     "output_type": "stream",
     "text": [
      " 67%|██████▋   | 2/3 [00:14<00:07,  7.05s/it]"
     ]
    },
    {
     "name": "stdout",
     "output_type": "stream",
     "text": [
      "1a7d7864fa05 3512!\n"
     ]
    },
    {
     "name": "stderr",
     "output_type": "stream",
     "text": [
      "100%|██████████| 3/3 [00:20<00:00,  6.94s/it]"
     ]
    },
    {
     "name": "stdout",
     "output_type": "stream",
     "text": [
      "ec5e6fb96d6d 3512!\n"
     ]
    },
    {
     "name": "stderr",
     "output_type": "stream",
     "text": [
      "\n"
     ]
    }
   ],
   "source": [
    "for cell in tqdm(cells_in_eva[:3]):\n",
    "    num_of_RNA = sum(eva_RNA.cell_id == cell)\n",
    "    print(f\"{cell} {num_of_RNA}!\")"
   ]
  },
  {
   "cell_type": "code",
   "execution_count": 90,
   "metadata": {},
   "outputs": [
    {
     "data": {
      "text/html": [
       "<div>\n",
       "<style scoped>\n",
       "    .dataframe tbody tr th:only-of-type {\n",
       "        vertical-align: middle;\n",
       "    }\n",
       "\n",
       "    .dataframe tbody tr th {\n",
       "        vertical-align: top;\n",
       "    }\n",
       "\n",
       "    .dataframe thead th {\n",
       "        text-align: right;\n",
       "    }\n",
       "</style>\n",
       "<table border=\"1\" class=\"dataframe\">\n",
       "  <thead>\n",
       "    <tr style=\"text-align: right;\">\n",
       "      <th></th>\n",
       "      <th>row_id</th>\n",
       "      <th>cell_id</th>\n",
       "      <th>gene_id</th>\n",
       "    </tr>\n",
       "  </thead>\n",
       "  <tbody>\n",
       "    <tr>\n",
       "      <th>6812820</th>\n",
       "      <td>6812820</td>\n",
       "      <td>8d287040728a</td>\n",
       "      <td>ENSG00000204091</td>\n",
       "    </tr>\n",
       "    <tr>\n",
       "      <th>6812821</th>\n",
       "      <td>6812821</td>\n",
       "      <td>8d287040728a</td>\n",
       "      <td>ENSG00000198938</td>\n",
       "    </tr>\n",
       "    <tr>\n",
       "      <th>6812822</th>\n",
       "      <td>6812822</td>\n",
       "      <td>8d287040728a</td>\n",
       "      <td>ENSG00000168495</td>\n",
       "    </tr>\n",
       "    <tr>\n",
       "      <th>6812823</th>\n",
       "      <td>6812823</td>\n",
       "      <td>8d287040728a</td>\n",
       "      <td>ENSG00000165527</td>\n",
       "    </tr>\n",
       "    <tr>\n",
       "      <th>6812824</th>\n",
       "      <td>6812824</td>\n",
       "      <td>8d287040728a</td>\n",
       "      <td>ENSG00000167414</td>\n",
       "    </tr>\n",
       "  </tbody>\n",
       "</table>\n",
       "</div>"
      ],
      "text/plain": [
       "          row_id       cell_id          gene_id\n",
       "6812820  6812820  8d287040728a  ENSG00000204091\n",
       "6812821  6812821  8d287040728a  ENSG00000198938\n",
       "6812822  6812822  8d287040728a  ENSG00000168495\n",
       "6812823  6812823  8d287040728a  ENSG00000165527\n",
       "6812824  6812824  8d287040728a  ENSG00000167414"
      ]
     },
     "execution_count": 90,
     "metadata": {},
     "output_type": "execute_result"
    }
   ],
   "source": [
    "test = eva_RNA.head()\n",
    "test"
   ]
  },
  {
   "cell_type": "code",
   "execution_count": 104,
   "metadata": {},
   "outputs": [],
   "source": [
    "cell_dict = {}\n",
    "for i in range(cellId_RNA.shape[0]):\n",
    "    cell_dict[cellId_RNA[i]] = i\n",
    "\n",
    "gene_dict = {}\n",
    "for i,value in enumerate(RNAs):\n",
    "    gene_dict[value] = i"
   ]
  },
  {
   "cell_type": "code",
   "execution_count": 109,
   "metadata": {},
   "outputs": [],
   "source": [
    "def RNA_submision(preMat, eva_RNA):\n",
    "    retval = []\n",
    "    for i in range(eva_RNA.shape[0]):\n",
    "        rowId = cell_dict[eva_RNA.iloc[i,1]]\n",
    "        colId = gene_dict[eva_RNA.iloc[i,2]]\n",
    "        \n",
    "        retval.append({\"cell_id\": eva_RNA.iloc[i,1], \"gene_id\": eva_RNA.iloc[i,2], \"target\": preMat[rowId, colId]})\n",
    "    return retval"
   ]
  },
  {
   "cell_type": "code",
   "execution_count": null,
   "metadata": {},
   "outputs": [],
   "source": [
    "retval = RNA_submision(mat, eva_RNA)"
   ]
  },
  {
   "cell_type": "code",
   "execution_count": 111,
   "metadata": {},
   "outputs": [
    {
     "data": {
      "text/html": [
       "<div>\n",
       "<style scoped>\n",
       "    .dataframe tbody tr th:only-of-type {\n",
       "        vertical-align: middle;\n",
       "    }\n",
       "\n",
       "    .dataframe tbody tr th {\n",
       "        vertical-align: top;\n",
       "    }\n",
       "\n",
       "    .dataframe thead th {\n",
       "        text-align: right;\n",
       "    }\n",
       "</style>\n",
       "<table border=\"1\" class=\"dataframe\">\n",
       "  <thead>\n",
       "    <tr style=\"text-align: right;\">\n",
       "      <th></th>\n",
       "      <th>cell_id</th>\n",
       "      <th>gene_id</th>\n",
       "      <th>target</th>\n",
       "    </tr>\n",
       "  </thead>\n",
       "  <tbody>\n",
       "    <tr>\n",
       "      <th>0</th>\n",
       "      <td>8d287040728a</td>\n",
       "      <td>ENSG00000204091</td>\n",
       "      <td>0.0</td>\n",
       "    </tr>\n",
       "    <tr>\n",
       "      <th>1</th>\n",
       "      <td>8d287040728a</td>\n",
       "      <td>ENSG00000198938</td>\n",
       "      <td>0.0</td>\n",
       "    </tr>\n",
       "    <tr>\n",
       "      <th>2</th>\n",
       "      <td>8d287040728a</td>\n",
       "      <td>ENSG00000168495</td>\n",
       "      <td>0.0</td>\n",
       "    </tr>\n",
       "    <tr>\n",
       "      <th>3</th>\n",
       "      <td>8d287040728a</td>\n",
       "      <td>ENSG00000165527</td>\n",
       "      <td>0.0</td>\n",
       "    </tr>\n",
       "    <tr>\n",
       "      <th>4</th>\n",
       "      <td>8d287040728a</td>\n",
       "      <td>ENSG00000167414</td>\n",
       "      <td>0.0</td>\n",
       "    </tr>\n",
       "  </tbody>\n",
       "</table>\n",
       "</div>"
      ],
      "text/plain": [
       "        cell_id          gene_id  target\n",
       "0  8d287040728a  ENSG00000204091     0.0\n",
       "1  8d287040728a  ENSG00000198938     0.0\n",
       "2  8d287040728a  ENSG00000168495     0.0\n",
       "3  8d287040728a  ENSG00000165527     0.0\n",
       "4  8d287040728a  ENSG00000167414     0.0"
      ]
     },
     "execution_count": 111,
     "metadata": {},
     "output_type": "execute_result"
    }
   ],
   "source": [
    "pd.DataFrame(retval)"
   ]
  },
  {
   "cell_type": "code",
   "execution_count": 108,
   "metadata": {},
   "outputs": [
    {
     "data": {
      "text/html": [
       "<div>\n",
       "<style scoped>\n",
       "    .dataframe tbody tr th:only-of-type {\n",
       "        vertical-align: middle;\n",
       "    }\n",
       "\n",
       "    .dataframe tbody tr th {\n",
       "        vertical-align: top;\n",
       "    }\n",
       "\n",
       "    .dataframe thead th {\n",
       "        text-align: right;\n",
       "    }\n",
       "</style>\n",
       "<table border=\"1\" class=\"dataframe\">\n",
       "  <thead>\n",
       "    <tr style=\"text-align: right;\">\n",
       "      <th></th>\n",
       "      <th>row_id</th>\n",
       "      <th>cell_id</th>\n",
       "      <th>gene_id</th>\n",
       "    </tr>\n",
       "  </thead>\n",
       "  <tbody>\n",
       "    <tr>\n",
       "      <th>6812820</th>\n",
       "      <td>6812820</td>\n",
       "      <td>8d287040728a</td>\n",
       "      <td>ENSG00000204091</td>\n",
       "    </tr>\n",
       "    <tr>\n",
       "      <th>6812821</th>\n",
       "      <td>6812821</td>\n",
       "      <td>8d287040728a</td>\n",
       "      <td>ENSG00000198938</td>\n",
       "    </tr>\n",
       "    <tr>\n",
       "      <th>6812822</th>\n",
       "      <td>6812822</td>\n",
       "      <td>8d287040728a</td>\n",
       "      <td>ENSG00000168495</td>\n",
       "    </tr>\n",
       "    <tr>\n",
       "      <th>6812823</th>\n",
       "      <td>6812823</td>\n",
       "      <td>8d287040728a</td>\n",
       "      <td>ENSG00000165527</td>\n",
       "    </tr>\n",
       "    <tr>\n",
       "      <th>6812824</th>\n",
       "      <td>6812824</td>\n",
       "      <td>8d287040728a</td>\n",
       "      <td>ENSG00000167414</td>\n",
       "    </tr>\n",
       "  </tbody>\n",
       "</table>\n",
       "</div>"
      ],
      "text/plain": [
       "          row_id       cell_id          gene_id\n",
       "6812820  6812820  8d287040728a  ENSG00000204091\n",
       "6812821  6812821  8d287040728a  ENSG00000198938\n",
       "6812822  6812822  8d287040728a  ENSG00000168495\n",
       "6812823  6812823  8d287040728a  ENSG00000165527\n",
       "6812824  6812824  8d287040728a  ENSG00000167414"
      ]
     },
     "execution_count": 108,
     "metadata": {},
     "output_type": "execute_result"
    }
   ],
   "source": [
    "test"
   ]
  },
  {
   "cell_type": "code",
   "execution_count": null,
   "metadata": {},
   "outputs": [],
   "source": []
  }
 ],
 "metadata": {
  "kernelspec": {
   "display_name": "Python 3.8.3 ('base')",
   "language": "python",
   "name": "python3"
  },
  "language_info": {
   "codemirror_mode": {
    "name": "ipython",
    "version": 3
   },
   "file_extension": ".py",
   "mimetype": "text/x-python",
   "name": "python",
   "nbconvert_exporter": "python",
   "pygments_lexer": "ipython3",
   "version": "3.8.3"
  },
  "orig_nbformat": 4,
  "vscode": {
   "interpreter": {
    "hash": "988c794135c7b53f1bd55a0ab2ba580152f2cd81db3906515a6ddf7fd2edeb28"
   }
  }
 },
 "nbformat": 4,
 "nbformat_minor": 2
}
