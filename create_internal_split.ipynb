{
 "cells": [
  {
   "cell_type": "code",
   "execution_count": null,
   "id": "6cedbe5c-b773-488c-9680-b108313a45fb",
   "metadata": {},
   "outputs": [],
   "source": [
    "import pandas as pd\n",
    "import h5py\n",
    "import hdf5plugin\n",
    "import pathlib as pl\n",
    "import func.data as dt\n",
    "\n",
    "data_dir = pl.Path(\"data/\")"
   ]
  },
  {
   "cell_type": "markdown",
   "id": "4b673f0b-8881-480c-9e7e-9162124101de",
   "metadata": {},
   "source": [
    "The block below splits the training inputs for the CITE-Seq problem into two parts, one for days 2 - 3 and another for day 4. We can use day 4 (which has accompanying targets) to simulate the evaluation that will happen on the public leaderboard."
   ]
  },
  {
   "cell_type": "code",
   "execution_count": null,
   "id": "5c26009f-759b-4d0e-bf5b-8deac59c28e0",
   "metadata": {},
   "outputs": [],
   "source": [
    "metadata = pd.read_csv(data_dir / \"raw/metadata.csv\")\n",
    "files_to_split = [\"train_multi_targets.h5\", \"train_cite_targets.h5\", \"train_multi_inputs.h5\", \"train_cite_inputs.h5\"]\n",
    "\n",
    "for f in files_to_split:\n",
    "    print(f\"Processing {f}\")\n",
    "    if \"cite\" in f:\n",
    "        holdout_day = 4\n",
    "    else:\n",
    "        holdout_day = 7\n",
    "    \n",
    "    current_data = dt.readH5pyFile(data_dir / f\"raw/{f}\")\n",
    "    train_df, holdout_df = dt.create_internal_split(current_data, metadata, holdout_day)\n",
    "    \n",
    "    output_name = f.replace(\"h5\", \"csv\")\n",
    "    train_df.to_csv(data_dir / f\"processed/internal_train-{output_name}\")\n",
    "    holdout_df.to_csv(data_dir / f\"processed/internal_holdout-{output_name}\")"
   ]
  },
  {
   "cell_type": "code",
   "execution_count": null,
   "id": "1a9c6fc2-e1d8-45ec-a5e6-cf3b6cac5e38",
   "metadata": {},
   "outputs": [],
   "source": []
  }
 ],
 "metadata": {
  "kernelspec": {
   "display_name": "sci",
   "language": "python",
   "name": "sci"
  },
  "language_info": {
   "codemirror_mode": {
    "name": "ipython",
    "version": 3
   },
   "file_extension": ".py",
   "mimetype": "text/x-python",
   "name": "python",
   "nbconvert_exporter": "python",
   "pygments_lexer": "ipython3",
   "version": "3.10.6"
  }
 },
 "nbformat": 4,
 "nbformat_minor": 5
}
